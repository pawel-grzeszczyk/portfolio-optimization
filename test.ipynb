{
 "cells": [
  {
   "cell_type": "code",
   "execution_count": 1,
   "metadata": {},
   "outputs": [],
   "source": [
    "import numpy as np\n",
    "import pandas as pd\n",
    "import torch"
   ]
  },
  {
   "cell_type": "code",
   "execution_count": 2,
   "metadata": {},
   "outputs": [
    {
     "data": {
      "text/plain": [
       "tensor([[ 0.9000,  0.6000,  0.3000,  0.0000, -0.9000],\n",
       "        [ 0.8000,  0.5000,  0.1000, -0.3000, -0.8000],\n",
       "        [ 0.8000,  0.6000,  0.2000, -0.5000, -0.6000],\n",
       "        [ 0.9000,  0.7000,  0.4000,  0.0000, -0.7000],\n",
       "        [ 0.8000,  0.5000,  0.2000,  0.1000, -0.8000]], dtype=torch.float64)"
      ]
     },
     "execution_count": 2,
     "metadata": {},
     "output_type": "execute_result"
    }
   ],
   "source": [
    "data = [\n",
    "    [0.9, 0.6, 0.3, 0, -0.9],\n",
    "    [0.8, 0.5, 0.1, -0.3, -0.8],\n",
    "    [0.8, 0.6, 0.2, -0.5, -0.6],\n",
    "    [0.9, 0.7, 0.4, 0, -0.7],\n",
    "    [0.8, 0.5, 0.2, 0.1, -0.8],\n",
    "    [0.9, 0.6, 0.3, 0.2, -0.8]\n",
    "]\n",
    "df = pd.DataFrame(data)\n",
    "\n",
    "X, y = torch.tensor(np.array(df.iloc[:-1])), torch.tensor(np.array(df.iloc[-1]))\n",
    "X"
   ]
  },
  {
   "cell_type": "code",
   "execution_count": 3,
   "metadata": {},
   "outputs": [
    {
     "data": {
      "text/plain": [
       "tensor([ 0.9000,  0.6000,  0.3000,  0.2000, -0.8000], dtype=torch.float64)"
      ]
     },
     "execution_count": 3,
     "metadata": {},
     "output_type": "execute_result"
    }
   ],
   "source": [
    "y"
   ]
  },
  {
   "cell_type": "code",
   "execution_count": 4,
   "metadata": {},
   "outputs": [
    {
     "data": {
      "text/plain": [
       "tensor([0.1000, 0.1000, 0.2000, 0.3000, 0.3000], dtype=torch.float64)"
      ]
     },
     "execution_count": 4,
     "metadata": {},
     "output_type": "execute_result"
    }
   ],
   "source": [
    "past_weights = torch.tensor(np.array([0.2, 0.2, 0.2, 0.2, 0.2]))\n",
    "\n",
    "pred_weights = torch.tensor(np.array([0.1, 0.1, 0.2, 0.3, 0.3]))\n",
    "pred_weights"
   ]
  },
  {
   "cell_type": "code",
   "execution_count": 9,
   "metadata": {},
   "outputs": [],
   "source": [
    "def sharpe(y, pred_weights, \n",
    "           X, past_weights):\n",
    "    weighted_returns = torch.mul(y, pred_weights)\n",
    "\n",
    "    weighted_past_returns = torch.mul(X, past_weights)\n",
    "\n",
    "    adjusted_returns = 1 + weighted_past_returns\n",
    "    cumulative = torch.prod(adjusted_returns, dim=0)\n",
    "\n",
    "    total = (cumulative * (weighted_returns + 1)) - 1\n",
    "\n",
    "    all_returns = torch.cat((weighted_past_returns, weighted_returns.unsqueeze(0)), 0)\n",
    "\n",
    "    return weighted_returns, weighted_past_returns, cumulative, total, all_returns"
   ]
  },
  {
   "cell_type": "code",
   "execution_count": 10,
   "metadata": {},
   "outputs": [
    {
     "data": {
      "text/plain": [
       "(tensor([ 0.0900,  0.0600,  0.0600,  0.0600, -0.2400], dtype=torch.float64),\n",
       " tensor([[ 0.1800,  0.1200,  0.0600,  0.0000, -0.1800],\n",
       "         [ 0.1600,  0.1000,  0.0200, -0.0600, -0.1600],\n",
       "         [ 0.1600,  0.1200,  0.0400, -0.1000, -0.1200],\n",
       "         [ 0.1800,  0.1400,  0.0800,  0.0000, -0.1400],\n",
       "         [ 0.1600,  0.1000,  0.0400,  0.0200, -0.1600]], dtype=torch.float64),\n",
       " tensor([2.1734, 1.7303, 1.2630, 0.8629, 0.4379], dtype=torch.float64),\n",
       " tensor([ 1.3690,  0.8341,  0.3388, -0.0853, -0.6672], dtype=torch.float64),\n",
       " tensor([[ 0.1800,  0.1200,  0.0600,  0.0000, -0.1800],\n",
       "         [ 0.1600,  0.1000,  0.0200, -0.0600, -0.1600],\n",
       "         [ 0.1600,  0.1200,  0.0400, -0.1000, -0.1200],\n",
       "         [ 0.1800,  0.1400,  0.0800,  0.0000, -0.1400],\n",
       "         [ 0.1600,  0.1000,  0.0400,  0.0200, -0.1600],\n",
       "         [ 0.0900,  0.0600,  0.0600,  0.0600, -0.2400]], dtype=torch.float64))"
      ]
     },
     "execution_count": 10,
     "metadata": {},
     "output_type": "execute_result"
    }
   ],
   "source": [
    "a, b, c, d, e = sharpe(y, pred_weights, X, past_weights)\n",
    "sharpe(y, pred_weights, X, past_weights)"
   ]
  },
  {
   "cell_type": "code",
   "execution_count": 7,
   "metadata": {},
   "outputs": [
    {
     "ename": "NameError",
     "evalue": "name 'x' is not defined",
     "output_type": "error",
     "traceback": [
      "\u001b[0;31m---------------------------------------------------------------------------\u001b[0m",
      "\u001b[0;31mNameError\u001b[0m                                 Traceback (most recent call last)",
      "Cell \u001b[0;32mIn[7], line 1\u001b[0m\n\u001b[0;32m----> 1\u001b[0m torch\u001b[38;5;241m.\u001b[39msqueeze(\u001b[43mx\u001b[49m)\n",
      "\u001b[0;31mNameError\u001b[0m: name 'x' is not defined"
     ]
    }
   ],
   "source": [
    "torch.squeeze(x)"
   ]
  }
 ],
 "metadata": {
  "kernelspec": {
   "display_name": "Python 3",
   "language": "python",
   "name": "python3"
  },
  "language_info": {
   "codemirror_mode": {
    "name": "ipython",
    "version": 3
   },
   "file_extension": ".py",
   "mimetype": "text/x-python",
   "name": "python",
   "nbconvert_exporter": "python",
   "pygments_lexer": "ipython3",
   "version": "3.12.4"
  }
 },
 "nbformat": 4,
 "nbformat_minor": 2
}
