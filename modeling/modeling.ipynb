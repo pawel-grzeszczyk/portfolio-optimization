{
 "cells": [
  {
   "cell_type": "markdown",
   "metadata": {},
   "source": [
    "### **Imports**"
   ]
  },
  {
   "cell_type": "code",
   "execution_count": 785,
   "metadata": {},
   "outputs": [],
   "source": [
    "import numpy as np\n",
    "import pandas as pd\n",
    "from datetime import datetime, timedelta"
   ]
  },
  {
   "cell_type": "code",
   "execution_count": 786,
   "metadata": {},
   "outputs": [],
   "source": [
    "import torch\n",
    "import torch.nn as nn"
   ]
  },
  {
   "cell_type": "code",
   "execution_count": 787,
   "metadata": {},
   "outputs": [
    {
     "data": {
      "text/plain": [
       "<module 'training_utils' from '/Users/pawelgrzeszczyk/Documents/02_studies/master/portfolio-optimization-dl/main/modeling/training_utils.py'>"
      ]
     },
     "execution_count": 787,
     "metadata": {},
     "output_type": "execute_result"
    }
   ],
   "source": [
    "import importlib\n",
    "import utils, models, training_utils\n",
    "importlib.reload(utils)\n",
    "importlib.reload(models)\n",
    "importlib.reload(training_utils)"
   ]
  },
  {
   "cell_type": "markdown",
   "metadata": {},
   "source": [
    "### **Reading the dataset**"
   ]
  },
  {
   "cell_type": "code",
   "execution_count": 788,
   "metadata": {},
   "outputs": [
    {
     "name": "stdout",
     "output_type": "stream",
     "text": [
      "First row with no NaN values is from: (2021-05-27)\n",
      "Number of rows with NaN values removed: 2021-05-27\n",
      "Number of rows with no NaN values: 792\n"
     ]
    },
    {
     "data": {
      "text/html": [
       "<div>\n",
       "<style scoped>\n",
       "    .dataframe tbody tr th:only-of-type {\n",
       "        vertical-align: middle;\n",
       "    }\n",
       "\n",
       "    .dataframe tbody tr th {\n",
       "        vertical-align: top;\n",
       "    }\n",
       "\n",
       "    .dataframe thead th {\n",
       "        text-align: right;\n",
       "    }\n",
       "</style>\n",
       "<table border=\"1\" class=\"dataframe\">\n",
       "  <thead>\n",
       "    <tr style=\"text-align: right;\">\n",
       "      <th></th>\n",
       "      <th>ALE</th>\n",
       "      <th>ALR</th>\n",
       "      <th>BDX</th>\n",
       "      <th>CDR</th>\n",
       "    </tr>\n",
       "    <tr>\n",
       "      <th>Date</th>\n",
       "      <th></th>\n",
       "      <th></th>\n",
       "      <th></th>\n",
       "      <th></th>\n",
       "    </tr>\n",
       "  </thead>\n",
       "  <tbody>\n",
       "    <tr>\n",
       "      <th>2021-05-27</th>\n",
       "      <td>58.279999</td>\n",
       "      <td>32.900002</td>\n",
       "      <td>313.5</td>\n",
       "      <td>175.500000</td>\n",
       "    </tr>\n",
       "    <tr>\n",
       "      <th>2021-05-28</th>\n",
       "      <td>58.500000</td>\n",
       "      <td>33.990002</td>\n",
       "      <td>306.0</td>\n",
       "      <td>178.580002</td>\n",
       "    </tr>\n",
       "    <tr>\n",
       "      <th>2021-05-31</th>\n",
       "      <td>57.660000</td>\n",
       "      <td>33.740002</td>\n",
       "      <td>298.5</td>\n",
       "      <td>168.740005</td>\n",
       "    </tr>\n",
       "    <tr>\n",
       "      <th>2021-06-01</th>\n",
       "      <td>59.209999</td>\n",
       "      <td>34.480000</td>\n",
       "      <td>299.0</td>\n",
       "      <td>153.380005</td>\n",
       "    </tr>\n",
       "    <tr>\n",
       "      <th>2021-06-02</th>\n",
       "      <td>59.180000</td>\n",
       "      <td>34.410000</td>\n",
       "      <td>295.0</td>\n",
       "      <td>161.580002</td>\n",
       "    </tr>\n",
       "  </tbody>\n",
       "</table>\n",
       "</div>"
      ],
      "text/plain": [
       "                  ALE        ALR    BDX         CDR\n",
       "Date                                               \n",
       "2021-05-27  58.279999  32.900002  313.5  175.500000\n",
       "2021-05-28  58.500000  33.990002  306.0  178.580002\n",
       "2021-05-31  57.660000  33.740002  298.5  168.740005\n",
       "2021-06-01  59.209999  34.480000  299.0  153.380005\n",
       "2021-06-02  59.180000  34.410000  295.0  161.580002"
      ]
     },
     "execution_count": 788,
     "metadata": {},
     "output_type": "execute_result"
    }
   ],
   "source": [
    "# Reading data, renaming columns and reordering\n",
    "data = pd.read_csv('../data/data_files/w20_stock.csv').filter(regex='^Close_')\n",
    "data.columns = [x.split('_')[1].split('.')[0] for x in data.columns]\n",
    "data['Date'] = pd.read_csv('../data/data_files/w20_stock.csv')['Date']\n",
    "data.insert(0, 'Date', data.pop('Date'))\n",
    "\n",
    "# Date as index\n",
    "data = data.set_index('Date')\n",
    "\n",
    "# Getting the first row with no NaN values\n",
    "first_full_row = data.dropna().first_valid_index()\n",
    "print(f'First row with no NaN values is from: ({first_full_row})')\n",
    "\n",
    "# Removing rows with NaN values\n",
    "data = data.loc[first_full_row:]\n",
    "print(f'Number of rows with NaN values removed: {first_full_row}')\n",
    "print(f'Number of rows with no NaN values: {data.shape[0]}')\n",
    "\n",
    "# Take only sample of assets\n",
    "data = data[data.columns[:4]]\n",
    "data.head()"
   ]
  },
  {
   "cell_type": "code",
   "execution_count": 789,
   "metadata": {},
   "outputs": [],
   "source": [
    "# data, X_SEQ_LEN = utils.generate_data(end_date=datetime(2023, 1, 30),\n",
    "#                                    days=100,\n",
    "#                                    num_ascending_start=2,\n",
    "#                                    num_descending_start=2,\n",
    "#                                    swap_count=10)\n",
    "# # How many \"next\" days should be used to set the true label\n",
    "# Y_SEQ_LEN = 1\n",
    "\n",
    "# data"
   ]
  },
  {
   "cell_type": "markdown",
   "metadata": {},
   "source": [
    "### **Prepare data for the model**"
   ]
  },
  {
   "cell_type": "markdown",
   "metadata": {},
   "source": [
    "**Calculating percentage changes**"
   ]
  },
  {
   "cell_type": "code",
   "execution_count": 790,
   "metadata": {},
   "outputs": [
    {
     "name": "stdout",
     "output_type": "stream",
     "text": [
      "Data shape: (791, 5)\n"
     ]
    },
    {
     "data": {
      "text/html": [
       "<div>\n",
       "<style scoped>\n",
       "    .dataframe tbody tr th:only-of-type {\n",
       "        vertical-align: middle;\n",
       "    }\n",
       "\n",
       "    .dataframe tbody tr th {\n",
       "        vertical-align: top;\n",
       "    }\n",
       "\n",
       "    .dataframe thead th {\n",
       "        text-align: right;\n",
       "    }\n",
       "</style>\n",
       "<table border=\"1\" class=\"dataframe\">\n",
       "  <thead>\n",
       "    <tr style=\"text-align: right;\">\n",
       "      <th></th>\n",
       "      <th>ALE</th>\n",
       "      <th>ALR</th>\n",
       "      <th>BDX</th>\n",
       "      <th>CDR</th>\n",
       "      <th>SAVE</th>\n",
       "    </tr>\n",
       "    <tr>\n",
       "      <th>Date</th>\n",
       "      <th></th>\n",
       "      <th></th>\n",
       "      <th></th>\n",
       "      <th></th>\n",
       "      <th></th>\n",
       "    </tr>\n",
       "  </thead>\n",
       "  <tbody>\n",
       "    <tr>\n",
       "      <th>2021-05-28</th>\n",
       "      <td>0.003775</td>\n",
       "      <td>0.033131</td>\n",
       "      <td>-0.023923</td>\n",
       "      <td>0.017550</td>\n",
       "      <td>0</td>\n",
       "    </tr>\n",
       "    <tr>\n",
       "      <th>2021-05-31</th>\n",
       "      <td>-0.014359</td>\n",
       "      <td>-0.007355</td>\n",
       "      <td>-0.024510</td>\n",
       "      <td>-0.055101</td>\n",
       "      <td>0</td>\n",
       "    </tr>\n",
       "    <tr>\n",
       "      <th>2021-06-01</th>\n",
       "      <td>0.026882</td>\n",
       "      <td>0.021932</td>\n",
       "      <td>0.001675</td>\n",
       "      <td>-0.091028</td>\n",
       "      <td>0</td>\n",
       "    </tr>\n",
       "    <tr>\n",
       "      <th>2021-06-02</th>\n",
       "      <td>-0.000507</td>\n",
       "      <td>-0.002030</td>\n",
       "      <td>-0.013378</td>\n",
       "      <td>0.053462</td>\n",
       "      <td>0</td>\n",
       "    </tr>\n",
       "    <tr>\n",
       "      <th>2021-06-04</th>\n",
       "      <td>-0.006928</td>\n",
       "      <td>0.009881</td>\n",
       "      <td>0.011864</td>\n",
       "      <td>0.059537</td>\n",
       "      <td>0</td>\n",
       "    </tr>\n",
       "  </tbody>\n",
       "</table>\n",
       "</div>"
      ],
      "text/plain": [
       "                 ALE       ALR       BDX       CDR  SAVE\n",
       "Date                                                    \n",
       "2021-05-28  0.003775  0.033131 -0.023923  0.017550     0\n",
       "2021-05-31 -0.014359 -0.007355 -0.024510 -0.055101     0\n",
       "2021-06-01  0.026882  0.021932  0.001675 -0.091028     0\n",
       "2021-06-02 -0.000507 -0.002030 -0.013378  0.053462     0\n",
       "2021-06-04 -0.006928  0.009881  0.011864  0.059537     0"
      ]
     },
     "execution_count": 790,
     "metadata": {},
     "output_type": "execute_result"
    }
   ],
   "source": [
    "# Calculate daily returns\n",
    "data_returns = data.pct_change().dropna()\n",
    "\n",
    "# Add new row equal to 0 - don't invest in anything\n",
    "data_returns['SAVE'] = 0\n",
    "\n",
    "print(f'Data shape: {data_returns.shape}')\n",
    "data_returns.head()"
   ]
  },
  {
   "cell_type": "markdown",
   "metadata": {},
   "source": [
    "**Convert to target shape**"
   ]
  },
  {
   "cell_type": "code",
   "execution_count": 791,
   "metadata": {},
   "outputs": [],
   "source": [
    "X_SEQ_LEN = 30\n",
    "Y_SEQ_LEN = 1"
   ]
  },
  {
   "cell_type": "code",
   "execution_count": 792,
   "metadata": {},
   "outputs": [],
   "source": [
    "import numpy as np\n",
    "import torch\n",
    "\n",
    "X_train, X_test, Y_train, Y_test = utils.create_sequences(data_returns = data_returns, \n",
    "                                                          X_seq_len = X_SEQ_LEN, \n",
    "                                                          Y_seq_len = Y_SEQ_LEN, \n",
    "                                                          test_size=0.2)"
   ]
  },
  {
   "cell_type": "code",
   "execution_count": 793,
   "metadata": {},
   "outputs": [
    {
     "name": "stdout",
     "output_type": "stream",
     "text": [
      "X shape: \n",
      "\ttorch.Size([608, 30, 5])\n",
      "X sample: \n",
      "\ttensor([[ 0.0038,  0.0331, -0.0239,  0.0175,  0.0000],\n",
      "        [-0.0144, -0.0074, -0.0245, -0.0551,  0.0000],\n",
      "        [ 0.0269,  0.0219,  0.0017, -0.0910,  0.0000],\n",
      "        [-0.0005, -0.0020, -0.0134,  0.0535,  0.0000],\n",
      "        [-0.0069,  0.0099,  0.0119,  0.0595,  0.0000],\n",
      "        [ 0.0048,  0.0037, -0.0369, -0.0084,  0.0000],\n",
      "        [ 0.0034, -0.0224,  0.0122,  0.0073,  0.0000],\n",
      "        [ 0.0066, -0.0114,  0.0052,  0.0322,  0.0000],\n",
      "        [-0.0208,  0.0110, -0.0188, -0.0142,  0.0000],\n",
      "        [-0.0017, -0.0167, -0.0052,  0.0678,  0.0000],\n",
      "        [ 0.0034,  0.0057,  0.0105,  0.0053,  0.0000],\n",
      "        [ 0.0050, -0.0306,  0.0000,  0.0653,  0.0000],\n",
      "        [ 0.0172,  0.0456, -0.0052, -0.0645,  0.0000],\n",
      "        [-0.0119,  0.0246, -0.0052, -0.0276,  0.0000],\n",
      "        [ 0.0162, -0.0226, -0.0123,  0.0158,  0.0000],\n",
      "        [-0.0108, -0.0091,  0.0000, -0.0026,  0.0000],\n",
      "        [-0.0194,  0.0209,  0.0106, -0.0305,  0.0000],\n",
      "        [ 0.0343,  0.0431, -0.0070,  0.0012,  0.0000],\n",
      "        [ 0.0380,  0.0169,  0.0212,  0.0115,  0.0000],\n",
      "        [ 0.0265,  0.0046, -0.0190, -0.0018,  0.0000],\n",
      "        [-0.0040, -0.0127,  0.0053,  0.0322,  0.0000],\n",
      "        [ 0.0244, -0.0313, -0.0140,  0.0154,  0.0000],\n",
      "        [ 0.0018, -0.0550, -0.0036, -0.0177,  0.0000],\n",
      "        [ 0.0256,  0.0288, -0.0161,  0.0202,  0.0000],\n",
      "        [ 0.0056,  0.0064, -0.0054,  0.0076,  0.0000],\n",
      "        [ 0.0202, -0.0200, -0.0018,  0.0089,  0.0000],\n",
      "        [ 0.0125, -0.0269, -0.0201, -0.0239,  0.0000],\n",
      "        [ 0.0496,  0.0261,  0.0112,  0.0325,  0.0000],\n",
      "        [-0.0213, -0.0198, -0.0092, -0.0306,  0.0000],\n",
      "        [-0.0038,  0.0088,  0.0093,  0.0028,  0.0000]])\n"
     ]
    }
   ],
   "source": [
    "print(f'X shape: \\n\\t{X_train.shape}')\n",
    "print(f'X sample: \\n\\t{X_train[0]}')"
   ]
  },
  {
   "cell_type": "code",
   "execution_count": 795,
   "metadata": {},
   "outputs": [
    {
     "name": "stdout",
     "output_type": "stream",
     "text": [
      "Y shape: \n",
      "\ttorch.Size([608, 1, 5])\n",
      "Y sample: \n",
      "\ttensor([[ 0.0299, -0.0476, -0.0037,  0.0737,  0.0000]])\n"
     ]
    }
   ],
   "source": [
    "print(f'Y shape: \\n\\t{Y_train.shape}')\n",
    "print(f'Y sample: \\n\\t{Y_train[0]}')"
   ]
  },
  {
   "cell_type": "markdown",
   "metadata": {},
   "source": [
    "**True labels**"
   ]
  },
  {
   "cell_type": "markdown",
   "metadata": {},
   "source": [
    "| Function                  | Arguments      | Description                                                                  |\n",
    "|---------------------------|----------------|------------------------------------------------------------------------------|\n",
    "| `get_Y_max_one`            | `Y`            | Pick one asset with the highest returns                                       |\n",
    "| `get_Y_max_light`          | `Y`            | Distribute weights among assets with positive returns depending on the returns value |\n",
    "| `get_Y_sharpe_one`         | `X, Y`         | Pick one asset with the highest Sharpe ratio                                  |\n",
    "| `get_Y_sharpe_light`       | `X, Y`         | Distribute weights among assets with positive returns depending on the Sharpe ratio value |"
   ]
  },
  {
   "cell_type": "code",
   "execution_count": 797,
   "metadata": {},
   "outputs": [
    {
     "name": "stdout",
     "output_type": "stream",
     "text": [
      "Y_true_labels shape: \n",
      "\ttorch.Size([72, 5])\n",
      "Y_true_labels sample: \n",
      "\ttensor([0.8247, 0.1753, 0.0000, 0.0000, 0.0000])\n"
     ]
    }
   ],
   "source": [
    "Y_train_true_labels = utils.get_Y_sharpe_light(X_train, Y_train)\n",
    "Y_test_true_labels = utils.get_Y_sharpe_light(X_test, Y_test)\n",
    "\n",
    "print(f'Y_true_labels shape: \\n\\t{Y_true_labels.shape}')\n",
    "print(f'Y_true_labels sample: \\n\\t{Y_true_labels[0]}')"
   ]
  },
  {
   "cell_type": "markdown",
   "metadata": {},
   "source": [
    "### **Model**"
   ]
  },
  {
   "cell_type": "code",
   "execution_count": 798,
   "metadata": {},
   "outputs": [],
   "source": [
    "input_size = X_train.shape[2]\n",
    "hidden_size = 256\n",
    "output_size = Y_true_labels.shape[1]\n",
    "\n",
    "# Create the model\n",
    "lstm_model = models.LSTMModel(input_size=input_size,\n",
    "                  hidden_size=hidden_size,\n",
    "                  output_size=output_size,\n",
    "                  num_layers=2).to()\n",
    "\n",
    "# Loss and optimizer\n",
    "criterion = nn.MSELoss()\n",
    "optimizer = torch.optim.Adam(lstm_model.parameters(), lr=1e-4)"
   ]
  },
  {
   "cell_type": "markdown",
   "metadata": {},
   "source": [
    "### **Training**"
   ]
  },
  {
   "cell_type": "code",
   "execution_count": 802,
   "metadata": {},
   "outputs": [
    {
     "data": {
      "text/plain": [
       "False"
      ]
     },
     "execution_count": 802,
     "metadata": {},
     "output_type": "execute_result"
    }
   ],
   "source": [
    "next(lstm_model.parameters()).is_cuda"
   ]
  },
  {
   "cell_type": "code",
   "execution_count": 799,
   "metadata": {},
   "outputs": [
    {
     "ename": "KeyboardInterrupt",
     "evalue": "",
     "output_type": "error",
     "traceback": [
      "\u001b[0;31m---------------------------------------------------------------------------\u001b[0m",
      "\u001b[0;31mKeyboardInterrupt\u001b[0m                         Traceback (most recent call last)",
      "Cell \u001b[0;32mIn[799], line 1\u001b[0m\n\u001b[0;32m----> 1\u001b[0m model_results \u001b[38;5;241m=\u001b[39m \u001b[43mtraining_utils\u001b[49m\u001b[38;5;241;43m.\u001b[39;49m\u001b[43mtrain\u001b[49m\u001b[43m(\u001b[49m\n\u001b[1;32m      2\u001b[0m \u001b[43m                    \u001b[49m\u001b[43mmodel\u001b[49m\u001b[38;5;241;43m=\u001b[39;49m\u001b[43mlstm_model\u001b[49m\u001b[43m,\u001b[49m\n\u001b[1;32m      3\u001b[0m \u001b[43m                    \u001b[49m\u001b[43mX_train\u001b[49m\u001b[38;5;241;43m=\u001b[39;49m\u001b[43mX_train\u001b[49m\u001b[43m,\u001b[49m\n\u001b[1;32m      4\u001b[0m \u001b[43m                    \u001b[49m\u001b[43mY_train\u001b[49m\u001b[38;5;241;43m=\u001b[39;49m\u001b[43mY_train\u001b[49m\u001b[43m,\u001b[49m\n\u001b[1;32m      5\u001b[0m \u001b[43m                    \u001b[49m\u001b[43mY_train_true_labels\u001b[49m\u001b[38;5;241;43m=\u001b[39;49m\u001b[43mY_train_true_labels\u001b[49m\u001b[43m,\u001b[49m\n\u001b[1;32m      6\u001b[0m \u001b[43m                    \u001b[49m\u001b[43mX_test\u001b[49m\u001b[38;5;241;43m=\u001b[39;49m\u001b[43mX_test\u001b[49m\u001b[43m,\u001b[49m\n\u001b[1;32m      7\u001b[0m \u001b[43m                    \u001b[49m\u001b[43mY_test\u001b[49m\u001b[38;5;241;43m=\u001b[39;49m\u001b[43mY_test\u001b[49m\u001b[43m,\u001b[49m\n\u001b[1;32m      8\u001b[0m \u001b[43m                    \u001b[49m\u001b[43mY_test_true_labels\u001b[49m\u001b[38;5;241;43m=\u001b[39;49m\u001b[43mY_test_true_labels\u001b[49m\u001b[43m,\u001b[49m\n\u001b[1;32m      9\u001b[0m \u001b[43m                    \u001b[49m\u001b[43moptimizer\u001b[49m\u001b[38;5;241;43m=\u001b[39;49m\u001b[43moptimizer\u001b[49m\u001b[43m,\u001b[49m\n\u001b[1;32m     10\u001b[0m \u001b[43m                    \u001b[49m\u001b[43mcriterion\u001b[49m\u001b[38;5;241;43m=\u001b[39;49m\u001b[43mcriterion\u001b[49m\u001b[43m,\u001b[49m\n\u001b[1;32m     11\u001b[0m \u001b[43m                    \u001b[49m\u001b[43mprofit_calc_fn\u001b[49m\u001b[38;5;241;43m=\u001b[39;49m\u001b[43mutils\u001b[49m\u001b[38;5;241;43m.\u001b[39;49m\u001b[43mcalculate_portfolio_return\u001b[49m\u001b[43m,\u001b[49m\n\u001b[1;32m     12\u001b[0m \u001b[43m                    \u001b[49m\u001b[43mepochs\u001b[49m\u001b[38;5;241;43m=\u001b[39;49m\u001b[38;5;241;43m1000\u001b[39;49m\u001b[43m,\u001b[49m\n\u001b[1;32m     13\u001b[0m \u001b[43m                    \u001b[49m\u001b[43mprint_every\u001b[49m\u001b[38;5;241;43m=\u001b[39;49m\u001b[38;5;241;43m100\u001b[39;49m\u001b[43m)\u001b[49m\n",
      "File \u001b[0;32m~/Documents/02_studies/master/portfolio-optimization-dl/main/modeling/training_utils.py:57\u001b[0m, in \u001b[0;36mtrain\u001b[0;34m(model, X_train, Y_train, Y_train_true_labels, X_test, Y_test, Y_test_true_labels, optimizer, criterion, profit_calc_fn, epochs, print_every)\u001b[0m\n\u001b[1;32m     54\u001b[0m \u001b[38;5;66;03m# 3. Loop through training and testing steps for a number of epochs\u001b[39;00m\n\u001b[1;32m     55\u001b[0m \u001b[38;5;66;03m# for epoch in tqdm(range(epochs)):\u001b[39;00m\n\u001b[1;32m     56\u001b[0m \u001b[38;5;28;01mfor\u001b[39;00m epoch \u001b[38;5;129;01min\u001b[39;00m \u001b[38;5;28mrange\u001b[39m(epochs):\n\u001b[0;32m---> 57\u001b[0m     train_loss, train_profit \u001b[38;5;241m=\u001b[39m \u001b[43mtrain_step\u001b[49m\u001b[43m(\u001b[49m\u001b[43mmodel\u001b[49m\u001b[38;5;241;43m=\u001b[39;49m\u001b[43mmodel\u001b[49m\u001b[43m,\u001b[49m\n\u001b[1;32m     58\u001b[0m \u001b[43m                                          \u001b[49m\u001b[43mX_train\u001b[49m\u001b[38;5;241;43m=\u001b[39;49m\u001b[43mX_train\u001b[49m\u001b[43m,\u001b[49m\n\u001b[1;32m     59\u001b[0m \u001b[43m                                          \u001b[49m\u001b[43mY_train\u001b[49m\u001b[38;5;241;43m=\u001b[39;49m\u001b[43mY_train\u001b[49m\u001b[43m,\u001b[49m\n\u001b[1;32m     60\u001b[0m \u001b[43m                                          \u001b[49m\u001b[43mY_train_true_labels\u001b[49m\u001b[38;5;241;43m=\u001b[39;49m\u001b[43mY_train_true_labels\u001b[49m\u001b[43m,\u001b[49m\n\u001b[1;32m     61\u001b[0m \u001b[43m                                          \u001b[49m\u001b[43mcriterion\u001b[49m\u001b[38;5;241;43m=\u001b[39;49m\u001b[43mcriterion\u001b[49m\u001b[43m,\u001b[49m\n\u001b[1;32m     62\u001b[0m \u001b[43m                                          \u001b[49m\u001b[43moptimizer\u001b[49m\u001b[38;5;241;43m=\u001b[39;49m\u001b[43moptimizer\u001b[49m\u001b[43m,\u001b[49m\n\u001b[1;32m     63\u001b[0m \u001b[43m                                          \u001b[49m\u001b[43mprofit_calc_fn\u001b[49m\u001b[38;5;241;43m=\u001b[39;49m\u001b[43mprofit_calc_fn\u001b[49m\u001b[43m)\u001b[49m\n\u001b[1;32m     64\u001b[0m     test_loss, test_profit \u001b[38;5;241m=\u001b[39m test_step(model\u001b[38;5;241m=\u001b[39mmodel,\n\u001b[1;32m     65\u001b[0m                                     X_test\u001b[38;5;241m=\u001b[39mX_test,\n\u001b[1;32m     66\u001b[0m                                     Y_test\u001b[38;5;241m=\u001b[39mY_test,\n\u001b[1;32m     67\u001b[0m                                     Y_test_true_labels\u001b[38;5;241m=\u001b[39mY_test_true_labels,\n\u001b[1;32m     68\u001b[0m                                     criterion\u001b[38;5;241m=\u001b[39mcriterion,\n\u001b[1;32m     69\u001b[0m                                     profit_calc_fn\u001b[38;5;241m=\u001b[39mprofit_calc_fn)\n\u001b[1;32m     70\u001b[0m     \u001b[38;5;66;03m# 4. Print out what's happening\u001b[39;00m\n",
      "File \u001b[0;32m~/Documents/02_studies/master/portfolio-optimization-dl/main/modeling/training_utils.py:15\u001b[0m, in \u001b[0;36mtrain_step\u001b[0;34m(model, X_train, Y_train, Y_train_true_labels, criterion, optimizer, profit_calc_fn)\u001b[0m\n\u001b[1;32m     12\u001b[0m _, profit \u001b[38;5;241m=\u001b[39m profit_calc_fn(output_weights\u001b[38;5;241m=\u001b[39moutputs, Y\u001b[38;5;241m=\u001b[39mY_train)\n\u001b[1;32m     14\u001b[0m \u001b[38;5;66;03m# Backward pass and optimization\u001b[39;00m\n\u001b[0;32m---> 15\u001b[0m \u001b[43mloss\u001b[49m\u001b[38;5;241;43m.\u001b[39;49m\u001b[43mbackward\u001b[49m\u001b[43m(\u001b[49m\u001b[43m)\u001b[49m\n\u001b[1;32m     16\u001b[0m optimizer\u001b[38;5;241m.\u001b[39mstep()\n\u001b[1;32m     18\u001b[0m \u001b[38;5;28;01mreturn\u001b[39;00m loss, profit\n",
      "File \u001b[0;32m~/Documents/02_studies/master/portfolio-optimization-dl/main/venv/lib/python3.12/site-packages/torch/_tensor.py:521\u001b[0m, in \u001b[0;36mTensor.backward\u001b[0;34m(self, gradient, retain_graph, create_graph, inputs)\u001b[0m\n\u001b[1;32m    511\u001b[0m \u001b[38;5;28;01mif\u001b[39;00m has_torch_function_unary(\u001b[38;5;28mself\u001b[39m):\n\u001b[1;32m    512\u001b[0m     \u001b[38;5;28;01mreturn\u001b[39;00m handle_torch_function(\n\u001b[1;32m    513\u001b[0m         Tensor\u001b[38;5;241m.\u001b[39mbackward,\n\u001b[1;32m    514\u001b[0m         (\u001b[38;5;28mself\u001b[39m,),\n\u001b[0;32m   (...)\u001b[0m\n\u001b[1;32m    519\u001b[0m         inputs\u001b[38;5;241m=\u001b[39minputs,\n\u001b[1;32m    520\u001b[0m     )\n\u001b[0;32m--> 521\u001b[0m \u001b[43mtorch\u001b[49m\u001b[38;5;241;43m.\u001b[39;49m\u001b[43mautograd\u001b[49m\u001b[38;5;241;43m.\u001b[39;49m\u001b[43mbackward\u001b[49m\u001b[43m(\u001b[49m\n\u001b[1;32m    522\u001b[0m \u001b[43m    \u001b[49m\u001b[38;5;28;43mself\u001b[39;49m\u001b[43m,\u001b[49m\u001b[43m \u001b[49m\u001b[43mgradient\u001b[49m\u001b[43m,\u001b[49m\u001b[43m \u001b[49m\u001b[43mretain_graph\u001b[49m\u001b[43m,\u001b[49m\u001b[43m \u001b[49m\u001b[43mcreate_graph\u001b[49m\u001b[43m,\u001b[49m\u001b[43m \u001b[49m\u001b[43minputs\u001b[49m\u001b[38;5;241;43m=\u001b[39;49m\u001b[43minputs\u001b[49m\n\u001b[1;32m    523\u001b[0m \u001b[43m\u001b[49m\u001b[43m)\u001b[49m\n",
      "File \u001b[0;32m~/Documents/02_studies/master/portfolio-optimization-dl/main/venv/lib/python3.12/site-packages/torch/autograd/__init__.py:289\u001b[0m, in \u001b[0;36mbackward\u001b[0;34m(tensors, grad_tensors, retain_graph, create_graph, grad_variables, inputs)\u001b[0m\n\u001b[1;32m    284\u001b[0m     retain_graph \u001b[38;5;241m=\u001b[39m create_graph\n\u001b[1;32m    286\u001b[0m \u001b[38;5;66;03m# The reason we repeat the same comment below is that\u001b[39;00m\n\u001b[1;32m    287\u001b[0m \u001b[38;5;66;03m# some Python versions print out the first line of a multi-line function\u001b[39;00m\n\u001b[1;32m    288\u001b[0m \u001b[38;5;66;03m# calls in the traceback and some print out the last line\u001b[39;00m\n\u001b[0;32m--> 289\u001b[0m \u001b[43m_engine_run_backward\u001b[49m\u001b[43m(\u001b[49m\n\u001b[1;32m    290\u001b[0m \u001b[43m    \u001b[49m\u001b[43mtensors\u001b[49m\u001b[43m,\u001b[49m\n\u001b[1;32m    291\u001b[0m \u001b[43m    \u001b[49m\u001b[43mgrad_tensors_\u001b[49m\u001b[43m,\u001b[49m\n\u001b[1;32m    292\u001b[0m \u001b[43m    \u001b[49m\u001b[43mretain_graph\u001b[49m\u001b[43m,\u001b[49m\n\u001b[1;32m    293\u001b[0m \u001b[43m    \u001b[49m\u001b[43mcreate_graph\u001b[49m\u001b[43m,\u001b[49m\n\u001b[1;32m    294\u001b[0m \u001b[43m    \u001b[49m\u001b[43minputs\u001b[49m\u001b[43m,\u001b[49m\n\u001b[1;32m    295\u001b[0m \u001b[43m    \u001b[49m\u001b[43mallow_unreachable\u001b[49m\u001b[38;5;241;43m=\u001b[39;49m\u001b[38;5;28;43;01mTrue\u001b[39;49;00m\u001b[43m,\u001b[49m\n\u001b[1;32m    296\u001b[0m \u001b[43m    \u001b[49m\u001b[43maccumulate_grad\u001b[49m\u001b[38;5;241;43m=\u001b[39;49m\u001b[38;5;28;43;01mTrue\u001b[39;49;00m\u001b[43m,\u001b[49m\n\u001b[1;32m    297\u001b[0m \u001b[43m\u001b[49m\u001b[43m)\u001b[49m\n",
      "File \u001b[0;32m~/Documents/02_studies/master/portfolio-optimization-dl/main/venv/lib/python3.12/site-packages/torch/autograd/graph.py:768\u001b[0m, in \u001b[0;36m_engine_run_backward\u001b[0;34m(t_outputs, *args, **kwargs)\u001b[0m\n\u001b[1;32m    766\u001b[0m     unregister_hooks \u001b[38;5;241m=\u001b[39m _register_logging_hooks_on_whole_graph(t_outputs)\n\u001b[1;32m    767\u001b[0m \u001b[38;5;28;01mtry\u001b[39;00m:\n\u001b[0;32m--> 768\u001b[0m     \u001b[38;5;28;01mreturn\u001b[39;00m \u001b[43mVariable\u001b[49m\u001b[38;5;241;43m.\u001b[39;49m\u001b[43m_execution_engine\u001b[49m\u001b[38;5;241;43m.\u001b[39;49m\u001b[43mrun_backward\u001b[49m\u001b[43m(\u001b[49m\u001b[43m  \u001b[49m\u001b[38;5;66;43;03m# Calls into the C++ engine to run the backward pass\u001b[39;49;00m\n\u001b[1;32m    769\u001b[0m \u001b[43m        \u001b[49m\u001b[43mt_outputs\u001b[49m\u001b[43m,\u001b[49m\u001b[43m \u001b[49m\u001b[38;5;241;43m*\u001b[39;49m\u001b[43margs\u001b[49m\u001b[43m,\u001b[49m\u001b[43m \u001b[49m\u001b[38;5;241;43m*\u001b[39;49m\u001b[38;5;241;43m*\u001b[39;49m\u001b[43mkwargs\u001b[49m\n\u001b[1;32m    770\u001b[0m \u001b[43m    \u001b[49m\u001b[43m)\u001b[49m  \u001b[38;5;66;03m# Calls into the C++ engine to run the backward pass\u001b[39;00m\n\u001b[1;32m    771\u001b[0m \u001b[38;5;28;01mfinally\u001b[39;00m:\n\u001b[1;32m    772\u001b[0m     \u001b[38;5;28;01mif\u001b[39;00m attach_logging_hooks:\n",
      "\u001b[0;31mKeyboardInterrupt\u001b[0m: "
     ]
    }
   ],
   "source": [
    "model_results = training_utils.train(\n",
    "                    model=lstm_model,\n",
    "                    X_train=X_train,\n",
    "                    Y_train=Y_train,\n",
    "                    Y_train_true_labels=Y_train_true_labels,\n",
    "                    X_test=X_test,\n",
    "                    Y_test=Y_test,\n",
    "                    Y_test_true_labels=Y_test_true_labels,\n",
    "                    optimizer=optimizer,\n",
    "                    criterion=criterion,\n",
    "                    profit_calc_fn=utils.calculate_portfolio_return,\n",
    "                    epochs=1000,\n",
    "                    print_every=100)"
   ]
  },
  {
   "cell_type": "code",
   "execution_count": 748,
   "metadata": {},
   "outputs": [
    {
     "data": {
      "image/png": "[encoded data removed]",
      "text/plain": [
       "<Figure size 1500x700 with 1 Axes>"
      ]
     },
     "metadata": {},
     "output_type": "display_data"
    }
   ],
   "source": [
    "utils.plot_loss_curves(model_results)"
   ]
  },
  {
   "cell_type": "markdown",
   "metadata": {},
   "source": [
    "### **Evaluation**"
   ]
  },
  {
   "cell_type": "markdown",
   "metadata": {},
   "source": [
    "### **Profit calculation**"
   ]
  },
  {
   "cell_type": "code",
   "execution_count": 749,
   "metadata": {},
   "outputs": [
    {
     "name": "stdout",
     "output_type": "stream",
     "text": [
      "Total max returns: 2.3608474731445312\n",
      "Daily max returns: tensor([1.0870, 1.0134, 1.0801, 1.0607, 1.0618, 1.0183, 1.0858, 1.0689, 1.0682,\n",
      "        1.0434, 1.0857, 1.0884, 1.0729, 1.0636, 1.0869, 1.0887, 1.0889, 1.0957])\n"
     ]
    }
   ],
   "source": [
    "max_daily_returns, max_total_returns = utils.calculate_max_return(Y_test)\n",
    "\n",
    "print(f'Total max returns: {max_total_returns}')\n",
    "print(f'Daily max returns: {max_daily_returns}')"
   ]
  },
  {
   "cell_type": "code",
   "execution_count": 750,
   "metadata": {},
   "outputs": [
    {
     "name": "stdout",
     "output_type": "stream",
     "text": [
      "Total portfolio returns: 1.4015896320343018\n",
      "Daily portfolio returns: tensor([1.0731, 1.0064, 1.0503, 1.0330, 1.0357, 1.0170, 1.0686, 1.0534, 1.0555,\n",
      "        1.0349, 1.0723, 1.0780, 1.0360, 1.0461, 1.0533, 1.0756, 1.0661, 1.0456])\n"
     ]
    }
   ],
   "source": [
    "portfolio_daily_returns, portfolio_total_returns = utils.calculate_portfolio_return(output_weights, Y_test)\n",
    "\n",
    "print(f'Total portfolio returns: {portfolio_total_returns}')\n",
    "print(f'Daily portfolio returns: {portfolio_daily_returns}')"
   ]
  },
  {
   "cell_type": "code",
   "execution_count": 762,
   "metadata": {},
   "outputs": [
    {
     "name": "stdout",
     "output_type": "stream",
     "text": [
      "Earned profit vs max profit: 1.40% vs 2.36%\n"
     ]
    }
   ],
   "source": [
    "print(f'Earned profit vs max profit: {portfolio_total_returns:.2f}% vs {max_total_returns:.2f}%')"
   ]
  }
 ],
 "metadata": {
  "kernelspec": {
   "display_name": "Python 3",
   "language": "python",
   "name": "python3"
  },
  "language_info": {
   "codemirror_mode": {
    "name": "ipython",
    "version": 3
   },
   "file_extension": ".py",
   "mimetype": "text/x-python",
   "name": "python",
   "nbconvert_exporter": "python",
   "pygments_lexer": "ipython3",
   "version": "3.12.4"
  }
 },
 "nbformat": 4,
 "nbformat_minor": 2
}
