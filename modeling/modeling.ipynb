{
 "cells": [
  {
   "cell_type": "markdown",
   "metadata": {},
   "source": [
    "### **Imports**"
   ]
  },
  {
   "cell_type": "code",
   "execution_count": 146,
   "metadata": {},
   "outputs": [],
   "source": [
    "import numpy as np\n",
    "import pandas as pd\n",
    "from datetime import datetime, timedelta"
   ]
  },
  {
   "cell_type": "code",
   "execution_count": 147,
   "metadata": {},
   "outputs": [],
   "source": [
    "import torch\n",
    "import torch.nn as nn"
   ]
  },
  {
   "cell_type": "code",
   "execution_count": 148,
   "metadata": {},
   "outputs": [
    {
     "data": {
      "text/plain": [
       "<module 'models' from '/Users/pawelgrzeszczyk/Documents/02_studies/master/portfolio-optimization-dl/main/modeling/models.py'>"
      ]
     },
     "execution_count": 148,
     "metadata": {},
     "output_type": "execute_result"
    }
   ],
   "source": [
    "import importlib\n",
    "import utils, models\n",
    "importlib.reload(utils)\n",
    "importlib.reload(models)"
   ]
  },
  {
   "cell_type": "markdown",
   "metadata": {},
   "source": [
    "### **Reading the dataset**"
   ]
  },
  {
   "cell_type": "code",
   "execution_count": 149,
   "metadata": {},
   "outputs": [],
   "source": [
    "# # Reading data, renaming columns and reordering\n",
    "# data = pd.read_csv('../data/data_files/w20_stock.csv').filter(regex='^Close_')\n",
    "# data.columns = [x.split('_')[1].split('.')[0] for x in data.columns]\n",
    "# data['Date'] = pd.read_csv('../data/data_files/w20_stock.csv')['Date']\n",
    "# data.insert(0, 'Date', data.pop('Date'))\n",
    "\n",
    "# # Date as index\n",
    "# data = data.set_index('Date')\n",
    "\n",
    "# # Getting the first row with no NaN values\n",
    "# first_full_row = data.dropna().first_valid_index()\n",
    "# print(f'First row with no NaN values is from: ({first_full_row})')\n",
    "\n",
    "# # Removing rows with NaN values\n",
    "# data = data.loc[first_full_row:]\n",
    "# print(f'Number of rows with NaN values removed: {first_full_row}')\n",
    "# print(f'Number of rows with no NaN values: {data.shape[0]}')\n",
    "# data.head()"
   ]
  },
  {
   "cell_type": "code",
   "execution_count": 150,
   "metadata": {},
   "outputs": [
    {
     "data": {
      "text/html": [
       "<div>\n",
       "<style scoped>\n",
       "    .dataframe tbody tr th:only-of-type {\n",
       "        vertical-align: middle;\n",
       "    }\n",
       "\n",
       "    .dataframe tbody tr th {\n",
       "        vertical-align: top;\n",
       "    }\n",
       "\n",
       "    .dataframe thead th {\n",
       "        text-align: right;\n",
       "    }\n",
       "</style>\n",
       "<table border=\"1\" class=\"dataframe\">\n",
       "  <thead>\n",
       "    <tr style=\"text-align: right;\">\n",
       "      <th></th>\n",
       "      <th>ascending_1</th>\n",
       "      <th>ascending_2</th>\n",
       "      <th>descending_1</th>\n",
       "      <th>descending_2</th>\n",
       "    </tr>\n",
       "    <tr>\n",
       "      <th>Date</th>\n",
       "      <th></th>\n",
       "      <th></th>\n",
       "      <th></th>\n",
       "      <th></th>\n",
       "    </tr>\n",
       "  </thead>\n",
       "  <tbody>\n",
       "    <tr>\n",
       "      <th>2023-01-18</th>\n",
       "      <td>100.00</td>\n",
       "      <td>100.00</td>\n",
       "      <td>100.00</td>\n",
       "      <td>100.00</td>\n",
       "    </tr>\n",
       "    <tr>\n",
       "      <th>2023-01-19</th>\n",
       "      <td>100.00</td>\n",
       "      <td>100.00</td>\n",
       "      <td>100.00</td>\n",
       "      <td>100.00</td>\n",
       "    </tr>\n",
       "    <tr>\n",
       "      <th>2023-01-20</th>\n",
       "      <td>102.21</td>\n",
       "      <td>109.76</td>\n",
       "      <td>95.07</td>\n",
       "      <td>93.75</td>\n",
       "    </tr>\n",
       "    <tr>\n",
       "      <th>2023-01-21</th>\n",
       "      <td>112.39</td>\n",
       "      <td>118.96</td>\n",
       "      <td>88.47</td>\n",
       "      <td>88.90</td>\n",
       "    </tr>\n",
       "    <tr>\n",
       "      <th>2023-01-22</th>\n",
       "      <td>113.66</td>\n",
       "      <td>120.51</td>\n",
       "      <td>81.40</td>\n",
       "      <td>87.51</td>\n",
       "    </tr>\n",
       "    <tr>\n",
       "      <th>2023-01-23</th>\n",
       "      <td>122.10</td>\n",
       "      <td>127.36</td>\n",
       "      <td>76.33</td>\n",
       "      <td>79.91</td>\n",
       "    </tr>\n",
       "    <tr>\n",
       "      <th>2023-01-24</th>\n",
       "      <td>112.89</td>\n",
       "      <td>121.64</td>\n",
       "      <td>83.95</td>\n",
       "      <td>81.98</td>\n",
       "    </tr>\n",
       "    <tr>\n",
       "      <th>2023-01-25</th>\n",
       "      <td>107.48</td>\n",
       "      <td>118.67</td>\n",
       "      <td>90.51</td>\n",
       "      <td>83.60</td>\n",
       "    </tr>\n",
       "    <tr>\n",
       "      <th>2023-01-26</th>\n",
       "      <td>105.18</td>\n",
       "      <td>108.00</td>\n",
       "      <td>98.22</td>\n",
       "      <td>87.75</td>\n",
       "    </tr>\n",
       "    <tr>\n",
       "      <th>2023-01-27</th>\n",
       "      <td>101.79</td>\n",
       "      <td>100.42</td>\n",
       "      <td>98.63</td>\n",
       "      <td>96.51</td>\n",
       "    </tr>\n",
       "    <tr>\n",
       "      <th>2023-01-28</th>\n",
       "      <td>107.64</td>\n",
       "      <td>104.94</td>\n",
       "      <td>95.75</td>\n",
       "      <td>93.30</td>\n",
       "    </tr>\n",
       "    <tr>\n",
       "      <th>2023-01-29</th>\n",
       "      <td>108.81</td>\n",
       "      <td>109.50</td>\n",
       "      <td>91.07</td>\n",
       "      <td>89.15</td>\n",
       "    </tr>\n",
       "    <tr>\n",
       "      <th>2023-01-30</th>\n",
       "      <td>119.52</td>\n",
       "      <td>111.63</td>\n",
       "      <td>85.10</td>\n",
       "      <td>88.60</td>\n",
       "    </tr>\n",
       "  </tbody>\n",
       "</table>\n",
       "</div>"
      ],
      "text/plain": [
       "            ascending_1  ascending_2  descending_1  descending_2\n",
       "Date                                                            \n",
       "2023-01-18       100.00       100.00        100.00        100.00\n",
       "2023-01-19       100.00       100.00        100.00        100.00\n",
       "2023-01-20       102.21       109.76         95.07         93.75\n",
       "2023-01-21       112.39       118.96         88.47         88.90\n",
       "2023-01-22       113.66       120.51         81.40         87.51\n",
       "2023-01-23       122.10       127.36         76.33         79.91\n",
       "2023-01-24       112.89       121.64         83.95         81.98\n",
       "2023-01-25       107.48       118.67         90.51         83.60\n",
       "2023-01-26       105.18       108.00         98.22         87.75\n",
       "2023-01-27       101.79       100.42         98.63         96.51\n",
       "2023-01-28       107.64       104.94         95.75         93.30\n",
       "2023-01-29       108.81       109.50         91.07         89.15\n",
       "2023-01-30       119.52       111.63         85.10         88.60"
      ]
     },
     "execution_count": 150,
     "metadata": {},
     "output_type": "execute_result"
    }
   ],
   "source": [
    "from utils import generate_data\n",
    "data, seq_len_data = generate_data(end_date=datetime(2023, 1, 30),\n",
    "                                   days=12,\n",
    "                                   num_ascending_start=2,\n",
    "                                   num_descending_start=2,\n",
    "                                   swap_count=3)\n",
    "# How many \"next\" days should be used to set the true label\n",
    "Y_SEQ_LEN = 2\n",
    "\n",
    "data"
   ]
  },
  {
   "cell_type": "markdown",
   "metadata": {},
   "source": [
    "### **Prepare data for the model**"
   ]
  },
  {
   "cell_type": "markdown",
   "metadata": {},
   "source": [
    "**Calculating percentage changes**"
   ]
  },
  {
   "cell_type": "code",
   "execution_count": 151,
   "metadata": {},
   "outputs": [
    {
     "name": "stdout",
     "output_type": "stream",
     "text": [
      "Data shape: (12, 5)\n"
     ]
    },
    {
     "data": {
      "text/html": [
       "<div>\n",
       "<style scoped>\n",
       "    .dataframe tbody tr th:only-of-type {\n",
       "        vertical-align: middle;\n",
       "    }\n",
       "\n",
       "    .dataframe tbody tr th {\n",
       "        vertical-align: top;\n",
       "    }\n",
       "\n",
       "    .dataframe thead th {\n",
       "        text-align: right;\n",
       "    }\n",
       "</style>\n",
       "<table border=\"1\" class=\"dataframe\">\n",
       "  <thead>\n",
       "    <tr style=\"text-align: right;\">\n",
       "      <th></th>\n",
       "      <th>ascending_1</th>\n",
       "      <th>ascending_2</th>\n",
       "      <th>descending_1</th>\n",
       "      <th>descending_2</th>\n",
       "      <th>SAVE</th>\n",
       "    </tr>\n",
       "    <tr>\n",
       "      <th>Date</th>\n",
       "      <th></th>\n",
       "      <th></th>\n",
       "      <th></th>\n",
       "      <th></th>\n",
       "      <th></th>\n",
       "    </tr>\n",
       "  </thead>\n",
       "  <tbody>\n",
       "    <tr>\n",
       "      <th>2023-01-19</th>\n",
       "      <td>0.000000</td>\n",
       "      <td>0.000000</td>\n",
       "      <td>0.000000</td>\n",
       "      <td>0.000000</td>\n",
       "      <td>0</td>\n",
       "    </tr>\n",
       "    <tr>\n",
       "      <th>2023-01-20</th>\n",
       "      <td>0.022100</td>\n",
       "      <td>0.097600</td>\n",
       "      <td>-0.049300</td>\n",
       "      <td>-0.062500</td>\n",
       "      <td>0</td>\n",
       "    </tr>\n",
       "    <tr>\n",
       "      <th>2023-01-21</th>\n",
       "      <td>0.099599</td>\n",
       "      <td>0.083819</td>\n",
       "      <td>-0.069423</td>\n",
       "      <td>-0.051733</td>\n",
       "      <td>0</td>\n",
       "    </tr>\n",
       "    <tr>\n",
       "      <th>2023-01-22</th>\n",
       "      <td>0.011300</td>\n",
       "      <td>0.013030</td>\n",
       "      <td>-0.079914</td>\n",
       "      <td>-0.015636</td>\n",
       "      <td>0</td>\n",
       "    </tr>\n",
       "    <tr>\n",
       "      <th>2023-01-23</th>\n",
       "      <td>0.074257</td>\n",
       "      <td>0.056842</td>\n",
       "      <td>-0.062285</td>\n",
       "      <td>-0.086847</td>\n",
       "      <td>0</td>\n",
       "    </tr>\n",
       "  </tbody>\n",
       "</table>\n",
       "</div>"
      ],
      "text/plain": [
       "            ascending_1  ascending_2  descending_1  descending_2  SAVE\n",
       "Date                                                                  \n",
       "2023-01-19     0.000000     0.000000      0.000000      0.000000     0\n",
       "2023-01-20     0.022100     0.097600     -0.049300     -0.062500     0\n",
       "2023-01-21     0.099599     0.083819     -0.069423     -0.051733     0\n",
       "2023-01-22     0.011300     0.013030     -0.079914     -0.015636     0\n",
       "2023-01-23     0.074257     0.056842     -0.062285     -0.086847     0"
      ]
     },
     "execution_count": 151,
     "metadata": {},
     "output_type": "execute_result"
    }
   ],
   "source": [
    "# Calculate daily returns\n",
    "data_returns = data.pct_change().dropna()\n",
    "\n",
    "# Add new row equal to 0 - don't invest in anything\n",
    "data_returns['SAVE'] = 0\n",
    "\n",
    "print(f'Data shape: {data_returns.shape}')\n",
    "data_returns.head()"
   ]
  },
  {
   "cell_type": "markdown",
   "metadata": {},
   "source": [
    "**Convert to target shape**"
   ]
  },
  {
   "cell_type": "code",
   "execution_count": 152,
   "metadata": {},
   "outputs": [],
   "source": [
    "# Parameters\n",
    "Y_seq_len = Y_SEQ_LEN\n",
    "\n",
    "X_seq_len = seq_len_data\n",
    "batch_size = len(data_returns) - X_seq_len - Y_seq_len + 1\n",
    "input_size = len(data_returns.columns)\n",
    "\n",
    "# Convert DataFrame to NumPy for easier slicing\n",
    "data_returns_np = data_returns.values\n",
    "\n",
    "# Create sequences\n",
    "X = []\n",
    "Y = []\n",
    "for i in range(batch_size):\n",
    "    first_y_index = i + X_seq_len\n",
    "    \n",
    "    X.append(data_returns_np[i:first_y_index])\n",
    "\n",
    "    # Get the index of the highest return for the next day\n",
    "    next_day_returns = data_returns_np[first_y_index:first_y_index + Y_seq_len]\n",
    "    Y.append(next_day_returns)\n",
    "\n",
    "# Convert to PyTorch tensors\n",
    "X = torch.tensor(np.array(X), dtype=torch.float32) # Shape: (batch_size, X_seq_len, input_size)\n",
    "Y = torch.tensor(np.array(Y), dtype=torch.float32) # Shape: (batch_size, Y_seq_len, input_size)\n",
    "next_day_Y = Y[:, 0, :] # Shape: (batch_size, input_size)"
   ]
  },
  {
   "cell_type": "code",
   "execution_count": 153,
   "metadata": {},
   "outputs": [
    {
     "name": "stdout",
     "output_type": "stream",
     "text": [
      "X shape: \n",
      "\ttorch.Size([7, 4, 5])\n",
      "X sample: \n",
      "\ttensor([[ 0.0000,  0.0000,  0.0000,  0.0000,  0.0000],\n",
      "        [ 0.0221,  0.0976, -0.0493, -0.0625,  0.0000],\n",
      "        [ 0.0996,  0.0838, -0.0694, -0.0517,  0.0000],\n",
      "        [ 0.0113,  0.0130, -0.0799, -0.0156,  0.0000]])\n"
     ]
    }
   ],
   "source": [
    "print(f'X shape: \\n\\t{X.shape}')\n",
    "print(f'X sample: \\n\\t{X[0]}')"
   ]
  },
  {
   "cell_type": "code",
   "execution_count": 154,
   "metadata": {},
   "outputs": [
    {
     "name": "stdout",
     "output_type": "stream",
     "text": [
      "Y shape: \n",
      "\ttorch.Size([7, 2, 5])\n",
      "Y sample: \n",
      "\ttensor([[ 0.0743,  0.0568, -0.0623, -0.0868,  0.0000],\n",
      "        [-0.0754, -0.0449,  0.0998,  0.0259,  0.0000]])\n"
     ]
    }
   ],
   "source": [
    "print(f'Y shape: \\n\\t{Y.shape}')\n",
    "print(f'Y sample: \\n\\t{Y[0]}')"
   ]
  },
  {
   "cell_type": "markdown",
   "metadata": {},
   "source": [
    "**True labels**"
   ]
  },
  {
   "cell_type": "markdown",
   "metadata": {},
   "source": [
    "| Function                  | Arguments      | Description                                                                  |\n",
    "|---------------------------|----------------|------------------------------------------------------------------------------|\n",
    "| `get_Y_max_one`            | `Y`            | Pick one asset with the highest returns                                       |\n",
    "| `get_Y_max_light`          | `Y`            | Distribute weights among assets with positive returns depending on the returns value |\n",
    "| `get_Y_sharpe_one`         | `X, Y`         | Pick one asset with the highest Sharpe ratio                                  |\n",
    "| `get_Y_sharpe_light`       | `X, Y`         | Distribute weights among assets with positive returns depending on the Sharpe ratio value |"
   ]
  },
  {
   "cell_type": "code",
   "execution_count": 155,
   "metadata": {},
   "outputs": [
    {
     "name": "stdout",
     "output_type": "stream",
     "text": [
      "Y_true_labels shape: \n",
      "\ttorch.Size([7, 5])\n",
      "Y_true_labels sample: \n",
      "\ttensor([0.6389, 0.3611, 0.0000, 0.0000, 0.0000])\n"
     ]
    }
   ],
   "source": [
    "Y_true_labels = utils.get_Y_sharpe_light(X, Y)\n",
    "\n",
    "print(f'Y_true_labels shape: \\n\\t{Y_true_labels.shape}')\n",
    "print(f'Y_true_labels sample: \\n\\t{Y_true_labels[-1]}')"
   ]
  },
  {
   "cell_type": "markdown",
   "metadata": {},
   "source": [
    "### **Model**"
   ]
  },
  {
   "cell_type": "code",
   "execution_count": 156,
   "metadata": {},
   "outputs": [],
   "source": [
    "input_size = X.shape[2]\n",
    "hidden_size = 256\n",
    "output_size = Y_true_labels.shape[1]\n",
    "\n",
    "# Create the model\n",
    "lstm_model = models.LSTMModel(input_size=input_size,\n",
    "                  hidden_size=hidden_size,\n",
    "                  output_size=output_size,\n",
    "                  num_layers=2)\n",
    "\n",
    "# Loss and optimizer\n",
    "criterion = nn.MSELoss()\n",
    "# criterion = lstm_model.SharpeRatioLoss()\n",
    "optimizer = torch.optim.Adam(lstm_model.parameters(), lr=1e-4)"
   ]
  },
  {
   "cell_type": "markdown",
   "metadata": {},
   "source": [
    "### **Training**"
   ]
  },
  {
   "cell_type": "code",
   "execution_count": 157,
   "metadata": {},
   "outputs": [
    {
     "name": "stdout",
     "output_type": "stream",
     "text": [
      "Epoch [100/1000], Loss: 0.0583\n",
      "Epoch [200/1000], Loss: 0.0537\n",
      "Epoch [300/1000], Loss: 0.0275\n",
      "Epoch [400/1000], Loss: 0.0162\n",
      "Epoch [500/1000], Loss: 0.0094\n",
      "Epoch [600/1000], Loss: 0.0070\n",
      "Epoch [700/1000], Loss: 0.0047\n",
      "Epoch [800/1000], Loss: 0.0050\n",
      "Epoch [900/1000], Loss: 0.0053\n",
      "Epoch [1000/1000], Loss: 0.0046\n"
     ]
    }
   ],
   "source": [
    "num_epochs = 1000\n",
    "\n",
    "for epoch in range(num_epochs):\n",
    "    lstm_model.train()\n",
    "    optimizer.zero_grad()\n",
    "\n",
    "    # Forward pass\n",
    "    outputs = lstm_model(X)\n",
    "\n",
    "    # Calculate loss\n",
    "    loss = criterion(outputs, Y_true_labels)\n",
    "\n",
    "    # Backward pass and optimization\n",
    "    loss.backward()\n",
    "    optimizer.step()\n",
    "\n",
    "    if (epoch+1) % 100 == 0:\n",
    "        print(f'Epoch [{epoch+1}/{num_epochs}], Loss: {loss.item():.4f}')"
   ]
  },
  {
   "cell_type": "markdown",
   "metadata": {},
   "source": [
    "### **Evaluation**"
   ]
  },
  {
   "cell_type": "code",
   "execution_count": 158,
   "metadata": {},
   "outputs": [],
   "source": [
    "with torch.no_grad():\n",
    "    output_weights = lstm_model(X)"
   ]
  },
  {
   "cell_type": "code",
   "execution_count": 159,
   "metadata": {},
   "outputs": [
    {
     "data": {
      "text/html": [
       "<div>\n",
       "<style scoped>\n",
       "    .dataframe tbody tr th:only-of-type {\n",
       "        vertical-align: middle;\n",
       "    }\n",
       "\n",
       "    .dataframe tbody tr th {\n",
       "        vertical-align: top;\n",
       "    }\n",
       "\n",
       "    .dataframe thead th {\n",
       "        text-align: right;\n",
       "    }\n",
       "</style>\n",
       "<table border=\"1\" class=\"dataframe\">\n",
       "  <thead>\n",
       "    <tr style=\"text-align: right;\">\n",
       "      <th></th>\n",
       "      <th>ascending_1</th>\n",
       "      <th>ascending_2</th>\n",
       "      <th>descending_1</th>\n",
       "      <th>descending_2</th>\n",
       "    </tr>\n",
       "    <tr>\n",
       "      <th>Date</th>\n",
       "      <th></th>\n",
       "      <th></th>\n",
       "      <th></th>\n",
       "      <th></th>\n",
       "    </tr>\n",
       "  </thead>\n",
       "  <tbody>\n",
       "    <tr>\n",
       "      <th>2023-01-18</th>\n",
       "      <td>100.00</td>\n",
       "      <td>100.00</td>\n",
       "      <td>100.00</td>\n",
       "      <td>100.00</td>\n",
       "    </tr>\n",
       "    <tr>\n",
       "      <th>2023-01-19</th>\n",
       "      <td>100.00</td>\n",
       "      <td>100.00</td>\n",
       "      <td>100.00</td>\n",
       "      <td>100.00</td>\n",
       "    </tr>\n",
       "    <tr>\n",
       "      <th>2023-01-20</th>\n",
       "      <td>102.21</td>\n",
       "      <td>109.76</td>\n",
       "      <td>95.07</td>\n",
       "      <td>93.75</td>\n",
       "    </tr>\n",
       "    <tr>\n",
       "      <th>2023-01-21</th>\n",
       "      <td>112.39</td>\n",
       "      <td>118.96</td>\n",
       "      <td>88.47</td>\n",
       "      <td>88.90</td>\n",
       "    </tr>\n",
       "    <tr>\n",
       "      <th>2023-01-22</th>\n",
       "      <td>113.66</td>\n",
       "      <td>120.51</td>\n",
       "      <td>81.40</td>\n",
       "      <td>87.51</td>\n",
       "    </tr>\n",
       "    <tr>\n",
       "      <th>2023-01-23</th>\n",
       "      <td>122.10</td>\n",
       "      <td>127.36</td>\n",
       "      <td>76.33</td>\n",
       "      <td>79.91</td>\n",
       "    </tr>\n",
       "    <tr>\n",
       "      <th>2023-01-24</th>\n",
       "      <td>112.89</td>\n",
       "      <td>121.64</td>\n",
       "      <td>83.95</td>\n",
       "      <td>81.98</td>\n",
       "    </tr>\n",
       "    <tr>\n",
       "      <th>2023-01-25</th>\n",
       "      <td>107.48</td>\n",
       "      <td>118.67</td>\n",
       "      <td>90.51</td>\n",
       "      <td>83.60</td>\n",
       "    </tr>\n",
       "    <tr>\n",
       "      <th>2023-01-26</th>\n",
       "      <td>105.18</td>\n",
       "      <td>108.00</td>\n",
       "      <td>98.22</td>\n",
       "      <td>87.75</td>\n",
       "    </tr>\n",
       "    <tr>\n",
       "      <th>2023-01-27</th>\n",
       "      <td>101.79</td>\n",
       "      <td>100.42</td>\n",
       "      <td>98.63</td>\n",
       "      <td>96.51</td>\n",
       "    </tr>\n",
       "    <tr>\n",
       "      <th>2023-01-28</th>\n",
       "      <td>107.64</td>\n",
       "      <td>104.94</td>\n",
       "      <td>95.75</td>\n",
       "      <td>93.30</td>\n",
       "    </tr>\n",
       "    <tr>\n",
       "      <th>2023-01-29</th>\n",
       "      <td>108.81</td>\n",
       "      <td>109.50</td>\n",
       "      <td>91.07</td>\n",
       "      <td>89.15</td>\n",
       "    </tr>\n",
       "    <tr>\n",
       "      <th>2023-01-30</th>\n",
       "      <td>119.52</td>\n",
       "      <td>111.63</td>\n",
       "      <td>85.10</td>\n",
       "      <td>88.60</td>\n",
       "    </tr>\n",
       "  </tbody>\n",
       "</table>\n",
       "</div>"
      ],
      "text/plain": [
       "            ascending_1  ascending_2  descending_1  descending_2\n",
       "Date                                                            \n",
       "2023-01-18       100.00       100.00        100.00        100.00\n",
       "2023-01-19       100.00       100.00        100.00        100.00\n",
       "2023-01-20       102.21       109.76         95.07         93.75\n",
       "2023-01-21       112.39       118.96         88.47         88.90\n",
       "2023-01-22       113.66       120.51         81.40         87.51\n",
       "2023-01-23       122.10       127.36         76.33         79.91\n",
       "2023-01-24       112.89       121.64         83.95         81.98\n",
       "2023-01-25       107.48       118.67         90.51         83.60\n",
       "2023-01-26       105.18       108.00         98.22         87.75\n",
       "2023-01-27       101.79       100.42         98.63         96.51\n",
       "2023-01-28       107.64       104.94         95.75         93.30\n",
       "2023-01-29       108.81       109.50         91.07         89.15\n",
       "2023-01-30       119.52       111.63         85.10         88.60"
      ]
     },
     "execution_count": 159,
     "metadata": {},
     "output_type": "execute_result"
    }
   ],
   "source": [
    "data"
   ]
  },
  {
   "cell_type": "code",
   "execution_count": 160,
   "metadata": {},
   "outputs": [
    {
     "data": {
      "text/plain": [
       "tensor([[-0.0479, -0.0244,  0.0781,  0.0198,  0.0000],\n",
       "        [-0.0214, -0.0899,  0.0852,  0.0496,  0.0000],\n",
       "        [-0.0322, -0.0702,  0.0042,  0.0998,  0.0000],\n",
       "        [ 0.0575,  0.0450, -0.0292, -0.0333,  0.0000]])"
      ]
     },
     "execution_count": 160,
     "metadata": {},
     "output_type": "execute_result"
    }
   ],
   "source": [
    "X[-1]"
   ]
  },
  {
   "cell_type": "code",
   "execution_count": 161,
   "metadata": {},
   "outputs": [
    {
     "data": {
      "text/plain": [
       "tensor([[ 0.0109,  0.0435, -0.0489, -0.0445,  0.0000],\n",
       "        [ 0.0984,  0.0195, -0.0656, -0.0062,  0.0000]])"
      ]
     },
     "execution_count": 161,
     "metadata": {},
     "output_type": "execute_result"
    }
   ],
   "source": [
    "Y[-1]"
   ]
  },
  {
   "cell_type": "code",
   "execution_count": 162,
   "metadata": {},
   "outputs": [
    {
     "data": {
      "text/plain": [
       "tensor([[0.0000, 0.2719, 0.7281, 0.0000, 0.0000],\n",
       "        [0.0000, 0.0000, 0.6965, 0.3035, 0.0000],\n",
       "        [0.0000, 0.0000, 0.5894, 0.4106, 0.0000],\n",
       "        [0.0000, 0.0000, 0.3173, 0.6827, 0.0000],\n",
       "        [0.2866, 0.0000, 0.0000, 0.7134, 0.0000],\n",
       "        [0.4816, 0.5184, 0.0000, 0.0000, 0.0000],\n",
       "        [0.6389, 0.3611, 0.0000, 0.0000, 0.0000]])"
      ]
     },
     "execution_count": 162,
     "metadata": {},
     "output_type": "execute_result"
    }
   ],
   "source": [
    "Y_true_labels"
   ]
  },
  {
   "cell_type": "code",
   "execution_count": 163,
   "metadata": {},
   "outputs": [
    {
     "name": "stdout",
     "output_type": "stream",
     "text": [
      "Output weights shape: torch.Size([7, 5])\n"
     ]
    },
    {
     "data": {
      "text/plain": [
       "[['1.24', '0.05', '76.43', '22.28', '0.00'],\n",
       " ['0.83', '0.02', '60.37', '38.78', '0.00'],\n",
       " ['0.83', '0.02', '63.20', '35.95', '0.00'],\n",
       " ['8.99', '0.28', '14.18', '76.55', '0.00'],\n",
       " ['23.77', '0.89', '5.22', '70.12', '0.01'],\n",
       " ['57.00', '40.05', '0.77', '1.96', '0.22'],\n",
       " ['63.36', '33.37', '0.92', '2.19', '0.17']]"
      ]
     },
     "execution_count": 163,
     "metadata": {},
     "output_type": "execute_result"
    }
   ],
   "source": [
    "print(f'Output weights shape: {output_weights.shape}')\n",
    "[[f\"{elem * 100 :.2f}\" for elem in row] for row in output_weights]"
   ]
  },
  {
   "cell_type": "code",
   "execution_count": 164,
   "metadata": {},
   "outputs": [
    {
     "data": {
      "text/plain": [
       "tensor([[1.2402e-02, 4.9209e-04, 7.6425e-01, 2.2284e-01, 1.2347e-05],\n",
       "        [8.2905e-03, 2.2100e-04, 6.0371e-01, 3.8777e-01, 5.4534e-06],\n",
       "        [8.3099e-03, 2.3446e-04, 6.3199e-01, 3.5946e-01, 5.8000e-06],\n",
       "        [8.9936e-02, 2.7723e-03, 1.4179e-01, 7.6547e-01, 2.8171e-05],\n",
       "        [2.3772e-01, 8.8701e-03, 5.2156e-02, 7.0120e-01, 5.8132e-05],\n",
       "        [5.6997e-01, 4.0051e-01, 7.7320e-03, 1.9614e-02, 2.1745e-03],\n",
       "        [6.3357e-01, 3.3368e-01, 9.1514e-03, 2.1864e-02, 1.7412e-03]])"
      ]
     },
     "execution_count": 164,
     "metadata": {},
     "output_type": "execute_result"
    }
   ],
   "source": [
    "output_weights"
   ]
  },
  {
   "cell_type": "markdown",
   "metadata": {},
   "source": [
    "### **Profit calculation**"
   ]
  },
  {
   "cell_type": "code",
   "execution_count": 165,
   "metadata": {},
   "outputs": [
    {
     "data": {
      "text/plain": [
       "tensor([[ 0.0743,  0.0568, -0.0623, -0.0868,  0.0000],\n",
       "        [-0.0754, -0.0449,  0.0998,  0.0259,  0.0000],\n",
       "        [-0.0479, -0.0244,  0.0781,  0.0198,  0.0000],\n",
       "        [-0.0214, -0.0899,  0.0852,  0.0496,  0.0000],\n",
       "        [-0.0322, -0.0702,  0.0042,  0.0998,  0.0000],\n",
       "        [ 0.0575,  0.0450, -0.0292, -0.0333,  0.0000],\n",
       "        [ 0.0109,  0.0435, -0.0489, -0.0445,  0.0000]])"
      ]
     },
     "execution_count": 165,
     "metadata": {},
     "output_type": "execute_result"
    }
   ],
   "source": [
    "next_day_Y"
   ]
  },
  {
   "cell_type": "code",
   "execution_count": 166,
   "metadata": {},
   "outputs": [
    {
     "name": "stdout",
     "output_type": "stream",
     "text": [
      "Total max returns: 0.6775656938552856\n",
      "Daily max returns: tensor([1.0743, 1.0998, 1.0781, 1.0852, 1.0998, 1.0575, 1.0435])\n"
     ]
    }
   ],
   "source": [
    "max_daily_returns = torch.max(next_day_Y, dim=1).values + 1\n",
    "max_total_returns = torch.prod(max_daily_returns) - 1\n",
    "\n",
    "print(f'Total max returns: {max_total_returns}')\n",
    "print(f'Daily max returns: {max_daily_returns}')"
   ]
  },
  {
   "cell_type": "code",
   "execution_count": 167,
   "metadata": {},
   "outputs": [
    {
     "name": "stdout",
     "output_type": "stream",
     "text": [
      "Total portfolio returns: 0.2573341131210327\n",
      "Daily portfolio returns: tensor([0.9340, 1.0697, 1.0561, 1.0479, 1.0619, 1.0499, 1.0200])\n"
     ]
    }
   ],
   "source": [
    "portfolio_daily_returns = (next_day_Y * output_weights).sum(dim=1) + 1\n",
    "portfolio_total_returns = torch.prod(portfolio_daily_returns) - 1\n",
    "\n",
    "print(f'Total portfolio returns: {portfolio_total_returns}')\n",
    "print(f'Daily portfolio returns: {portfolio_daily_returns}')"
   ]
  },
  {
   "cell_type": "code",
   "execution_count": 168,
   "metadata": {},
   "outputs": [
    {
     "data": {
      "text/plain": [
       "tensor(0.3043)"
      ]
     },
     "execution_count": 168,
     "metadata": {},
     "output_type": "execute_result"
    }
   ],
   "source": [
    "lost_profit = 1 - (total_portfolio_returns / max_total_returns)\n",
    "lost_profit"
   ]
  }
 ],
 "metadata": {
  "kernelspec": {
   "display_name": "Python 3",
   "language": "python",
   "name": "python3"
  },
  "language_info": {
   "codemirror_mode": {
    "name": "ipython",
    "version": 3
   },
   "file_extension": ".py",
   "mimetype": "text/x-python",
   "name": "python",
   "nbconvert_exporter": "python",
   "pygments_lexer": "ipython3",
   "version": "3.12.4"
  }
 },
 "nbformat": 4,
 "nbformat_minor": 2
}
