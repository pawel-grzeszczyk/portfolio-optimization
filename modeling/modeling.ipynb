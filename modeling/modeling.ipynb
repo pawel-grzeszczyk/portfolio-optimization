{
 "cells": [
  {
   "cell_type": "markdown",
   "metadata": {},
   "source": [
    "### **Imports**"
   ]
  },
  {
   "cell_type": "code",
   "execution_count": 788,
   "metadata": {},
   "outputs": [],
   "source": [
    "import numpy as np\n",
    "import pandas as pd\n",
    "from datetime import datetime, timedelta"
   ]
  },
  {
   "cell_type": "code",
   "execution_count": 789,
   "metadata": {},
   "outputs": [],
   "source": [
    "import torch\n",
    "import torch.nn as nn"
   ]
  },
  {
   "cell_type": "code",
   "execution_count": 790,
   "metadata": {},
   "outputs": [
    {
     "data": {
      "text/plain": [
       "<module 'model' from '/Users/pawelgrzeszczyk/Documents/02_studies/master/portfolio-optimization-dl/main/modeling/model.py'>"
      ]
     },
     "execution_count": 790,
     "metadata": {},
     "output_type": "execute_result"
    }
   ],
   "source": [
    "import importlib\n",
    "import utils, model\n",
    "importlib.reload(utils)\n",
    "importlib.reload(model)"
   ]
  },
  {
   "cell_type": "markdown",
   "metadata": {},
   "source": [
    "### **Reading the dataset**"
   ]
  },
  {
   "cell_type": "code",
   "execution_count": 791,
   "metadata": {},
   "outputs": [],
   "source": [
    "# # Reading data, renaming columns and reordering\n",
    "# data = pd.read_csv('../data/data_files/w20_stock.csv').filter(regex='^Close_')\n",
    "# data.columns = [x.split('_')[1].split('.')[0] for x in data.columns]\n",
    "# data['Date'] = pd.read_csv('../data/data_files/w20_stock.csv')['Date']\n",
    "# data.insert(0, 'Date', data.pop('Date'))\n",
    "\n",
    "# # Date as index\n",
    "# data = data.set_index('Date')\n",
    "\n",
    "# # Getting the first row with no NaN values\n",
    "# first_full_row = data.dropna().first_valid_index()\n",
    "# print(f'First row with no NaN values is from: ({first_full_row})')\n",
    "\n",
    "# # Removing rows with NaN values\n",
    "# data = data.loc[first_full_row:]\n",
    "# print(f'Number of rows with NaN values removed: {first_full_row}')\n",
    "# print(f'Number of rows with no NaN values: {data.shape[0]}')\n",
    "# data.head()"
   ]
  },
  {
   "cell_type": "code",
   "execution_count": 792,
   "metadata": {},
   "outputs": [
    {
     "data": {
      "text/html": [
       "<div>\n",
       "<style scoped>\n",
       "    .dataframe tbody tr th:only-of-type {\n",
       "        vertical-align: middle;\n",
       "    }\n",
       "\n",
       "    .dataframe tbody tr th {\n",
       "        vertical-align: top;\n",
       "    }\n",
       "\n",
       "    .dataframe thead th {\n",
       "        text-align: right;\n",
       "    }\n",
       "</style>\n",
       "<table border=\"1\" class=\"dataframe\">\n",
       "  <thead>\n",
       "    <tr style=\"text-align: right;\">\n",
       "      <th></th>\n",
       "      <th>ascending_1</th>\n",
       "      <th>ascending_2</th>\n",
       "      <th>descending_1</th>\n",
       "      <th>descending_2</th>\n",
       "    </tr>\n",
       "    <tr>\n",
       "      <th>Date</th>\n",
       "      <th></th>\n",
       "      <th></th>\n",
       "      <th></th>\n",
       "      <th></th>\n",
       "    </tr>\n",
       "  </thead>\n",
       "  <tbody>\n",
       "    <tr>\n",
       "      <th>2023-01-18</th>\n",
       "      <td>100.00</td>\n",
       "      <td>100.00</td>\n",
       "      <td>100.00</td>\n",
       "      <td>100.00</td>\n",
       "    </tr>\n",
       "    <tr>\n",
       "      <th>2023-01-19</th>\n",
       "      <td>100.00</td>\n",
       "      <td>100.00</td>\n",
       "      <td>100.00</td>\n",
       "      <td>100.00</td>\n",
       "    </tr>\n",
       "    <tr>\n",
       "      <th>2023-01-20</th>\n",
       "      <td>101.27</td>\n",
       "      <td>107.67</td>\n",
       "      <td>94.70</td>\n",
       "      <td>95.14</td>\n",
       "    </tr>\n",
       "    <tr>\n",
       "      <th>2023-01-21</th>\n",
       "      <td>107.78</td>\n",
       "      <td>114.30</td>\n",
       "      <td>94.11</td>\n",
       "      <td>90.60</td>\n",
       "    </tr>\n",
       "    <tr>\n",
       "      <th>2023-01-22</th>\n",
       "      <td>110.88</td>\n",
       "      <td>122.87</td>\n",
       "      <td>93.10</td>\n",
       "      <td>82.36</td>\n",
       "    </tr>\n",
       "    <tr>\n",
       "      <th>2023-01-23</th>\n",
       "      <td>115.83</td>\n",
       "      <td>124.81</td>\n",
       "      <td>88.85</td>\n",
       "      <td>80.29</td>\n",
       "    </tr>\n",
       "    <tr>\n",
       "      <th>2023-01-24</th>\n",
       "      <td>115.76</td>\n",
       "      <td>115.14</td>\n",
       "      <td>94.81</td>\n",
       "      <td>84.16</td>\n",
       "    </tr>\n",
       "    <tr>\n",
       "      <th>2023-01-25</th>\n",
       "      <td>106.03</td>\n",
       "      <td>104.35</td>\n",
       "      <td>99.62</td>\n",
       "      <td>86.57</td>\n",
       "    </tr>\n",
       "    <tr>\n",
       "      <th>2023-01-26</th>\n",
       "      <td>100.53</td>\n",
       "      <td>102.34</td>\n",
       "      <td>101.02</td>\n",
       "      <td>95.16</td>\n",
       "    </tr>\n",
       "    <tr>\n",
       "      <th>2023-01-27</th>\n",
       "      <td>93.70</td>\n",
       "      <td>94.37</td>\n",
       "      <td>104.82</td>\n",
       "      <td>95.63</td>\n",
       "    </tr>\n",
       "    <tr>\n",
       "      <th>2023-01-28</th>\n",
       "      <td>99.20</td>\n",
       "      <td>99.34</td>\n",
       "      <td>98.13</td>\n",
       "      <td>89.13</td>\n",
       "    </tr>\n",
       "    <tr>\n",
       "      <th>2023-01-29</th>\n",
       "      <td>101.82</td>\n",
       "      <td>102.72</td>\n",
       "      <td>94.21</td>\n",
       "      <td>82.91</td>\n",
       "    </tr>\n",
       "    <tr>\n",
       "      <th>2023-01-30</th>\n",
       "      <td>102.06</td>\n",
       "      <td>111.49</td>\n",
       "      <td>85.09</td>\n",
       "      <td>81.13</td>\n",
       "    </tr>\n",
       "  </tbody>\n",
       "</table>\n",
       "</div>"
      ],
      "text/plain": [
       "            ascending_1  ascending_2  descending_1  descending_2\n",
       "Date                                                            \n",
       "2023-01-18       100.00       100.00        100.00        100.00\n",
       "2023-01-19       100.00       100.00        100.00        100.00\n",
       "2023-01-20       101.27       107.67         94.70         95.14\n",
       "2023-01-21       107.78       114.30         94.11         90.60\n",
       "2023-01-22       110.88       122.87         93.10         82.36\n",
       "2023-01-23       115.83       124.81         88.85         80.29\n",
       "2023-01-24       115.76       115.14         94.81         84.16\n",
       "2023-01-25       106.03       104.35         99.62         86.57\n",
       "2023-01-26       100.53       102.34        101.02         95.16\n",
       "2023-01-27        93.70        94.37        104.82         95.63\n",
       "2023-01-28        99.20        99.34         98.13         89.13\n",
       "2023-01-29       101.82       102.72         94.21         82.91\n",
       "2023-01-30       102.06       111.49         85.09         81.13"
      ]
     },
     "execution_count": 792,
     "metadata": {},
     "output_type": "execute_result"
    }
   ],
   "source": [
    "from utils import generate_data\n",
    "data, seq_len_data = generate_data(end_date=datetime(2023, 1, 30),\n",
    "                                   days=12,\n",
    "                                   num_ascending_start=2,\n",
    "                                   num_descending_start=2,\n",
    "                                   swap_count=3)\n",
    "# How many \"next\" days should be used to set the true label\n",
    "Y_SEQ_LEN = 1\n",
    "\n",
    "data"
   ]
  },
  {
   "cell_type": "markdown",
   "metadata": {},
   "source": [
    "### **Prepare data for the model**"
   ]
  },
  {
   "cell_type": "markdown",
   "metadata": {},
   "source": [
    "**Calculating percentage changes**"
   ]
  },
  {
   "cell_type": "code",
   "execution_count": 793,
   "metadata": {},
   "outputs": [
    {
     "name": "stdout",
     "output_type": "stream",
     "text": [
      "Data shape: (12, 5)\n"
     ]
    },
    {
     "data": {
      "text/html": [
       "<div>\n",
       "<style scoped>\n",
       "    .dataframe tbody tr th:only-of-type {\n",
       "        vertical-align: middle;\n",
       "    }\n",
       "\n",
       "    .dataframe tbody tr th {\n",
       "        vertical-align: top;\n",
       "    }\n",
       "\n",
       "    .dataframe thead th {\n",
       "        text-align: right;\n",
       "    }\n",
       "</style>\n",
       "<table border=\"1\" class=\"dataframe\">\n",
       "  <thead>\n",
       "    <tr style=\"text-align: right;\">\n",
       "      <th></th>\n",
       "      <th>ascending_1</th>\n",
       "      <th>ascending_2</th>\n",
       "      <th>descending_1</th>\n",
       "      <th>descending_2</th>\n",
       "      <th>SAVE</th>\n",
       "    </tr>\n",
       "    <tr>\n",
       "      <th>Date</th>\n",
       "      <th></th>\n",
       "      <th></th>\n",
       "      <th></th>\n",
       "      <th></th>\n",
       "      <th></th>\n",
       "    </tr>\n",
       "  </thead>\n",
       "  <tbody>\n",
       "    <tr>\n",
       "      <th>2023-01-19</th>\n",
       "      <td>0.000000</td>\n",
       "      <td>0.000000</td>\n",
       "      <td>0.000000</td>\n",
       "      <td>0.000000</td>\n",
       "      <td>0</td>\n",
       "    </tr>\n",
       "    <tr>\n",
       "      <th>2023-01-20</th>\n",
       "      <td>0.012700</td>\n",
       "      <td>0.076700</td>\n",
       "      <td>-0.053000</td>\n",
       "      <td>-0.048600</td>\n",
       "      <td>0</td>\n",
       "    </tr>\n",
       "    <tr>\n",
       "      <th>2023-01-21</th>\n",
       "      <td>0.064284</td>\n",
       "      <td>0.061577</td>\n",
       "      <td>-0.006230</td>\n",
       "      <td>-0.047719</td>\n",
       "      <td>0</td>\n",
       "    </tr>\n",
       "    <tr>\n",
       "      <th>2023-01-22</th>\n",
       "      <td>0.028762</td>\n",
       "      <td>0.074978</td>\n",
       "      <td>-0.010732</td>\n",
       "      <td>-0.090949</td>\n",
       "      <td>0</td>\n",
       "    </tr>\n",
       "    <tr>\n",
       "      <th>2023-01-23</th>\n",
       "      <td>0.044643</td>\n",
       "      <td>0.015789</td>\n",
       "      <td>-0.045650</td>\n",
       "      <td>-0.025134</td>\n",
       "      <td>0</td>\n",
       "    </tr>\n",
       "  </tbody>\n",
       "</table>\n",
       "</div>"
      ],
      "text/plain": [
       "            ascending_1  ascending_2  descending_1  descending_2  SAVE\n",
       "Date                                                                  \n",
       "2023-01-19     0.000000     0.000000      0.000000      0.000000     0\n",
       "2023-01-20     0.012700     0.076700     -0.053000     -0.048600     0\n",
       "2023-01-21     0.064284     0.061577     -0.006230     -0.047719     0\n",
       "2023-01-22     0.028762     0.074978     -0.010732     -0.090949     0\n",
       "2023-01-23     0.044643     0.015789     -0.045650     -0.025134     0"
      ]
     },
     "execution_count": 793,
     "metadata": {},
     "output_type": "execute_result"
    }
   ],
   "source": [
    "# Calculate daily returns\n",
    "data_returns = data.pct_change().dropna()\n",
    "\n",
    "# Add new row equal to 0 - don't invest in anything\n",
    "data_returns['SAVE'] = 0\n",
    "\n",
    "print(f'Data shape: {data_returns.shape}')\n",
    "data_returns.head()"
   ]
  },
  {
   "cell_type": "markdown",
   "metadata": {},
   "source": [
    "**Convert to target shape**"
   ]
  },
  {
   "cell_type": "code",
   "execution_count": 794,
   "metadata": {},
   "outputs": [],
   "source": [
    "# Parameters\n",
    "Y_seq_len = Y_SEQ_LEN\n",
    "\n",
    "X_seq_len = seq_len_data\n",
    "batch_size = len(data_returns) - X_seq_len - Y_seq_len + 1\n",
    "input_size = len(data_returns.columns)\n",
    "\n",
    "# Convert DataFrame to NumPy for easier slicing\n",
    "data_returns_np = data_returns.values\n",
    "\n",
    "# Create sequences\n",
    "X = []\n",
    "Y = []\n",
    "for i in range(batch_size):\n",
    "    first_y_index = i + X_seq_len\n",
    "    \n",
    "    X.append(data_returns_np[i:first_y_index])\n",
    "\n",
    "    # Get the index of the highest return for the next day\n",
    "    next_day_returns = data_returns_np[first_y_index:first_y_index + Y_seq_len]\n",
    "    Y.append(next_day_returns)\n",
    "\n",
    "# Convert to PyTorch tensors\n",
    "X = torch.tensor(np.array(X), dtype=torch.float32)  # Shape: (batch_size, X_seq_len, input_size)\n",
    "Y = torch.tensor(np.array(Y), dtype=torch.float32)  # Shape: (batch_size, input_size)"
   ]
  },
  {
   "cell_type": "code",
   "execution_count": 795,
   "metadata": {},
   "outputs": [
    {
     "name": "stdout",
     "output_type": "stream",
     "text": [
      "X shape: \n",
      "\ttorch.Size([8, 4, 5])\n",
      "X sample: \n",
      "\ttensor([[ 0.0000,  0.0000,  0.0000,  0.0000,  0.0000],\n",
      "        [ 0.0127,  0.0767, -0.0530, -0.0486,  0.0000],\n",
      "        [ 0.0643,  0.0616, -0.0062, -0.0477,  0.0000],\n",
      "        [ 0.0288,  0.0750, -0.0107, -0.0909,  0.0000]])\n"
     ]
    }
   ],
   "source": [
    "print(f'X shape: \\n\\t{X.shape}')\n",
    "print(f'X sample: \\n\\t{X[0]}')"
   ]
  },
  {
   "cell_type": "code",
   "execution_count": 796,
   "metadata": {},
   "outputs": [
    {
     "name": "stdout",
     "output_type": "stream",
     "text": [
      "Y shape: \n",
      "\ttorch.Size([8, 1, 5])\n",
      "Y sample: \n",
      "\ttensor([[ 0.0446,  0.0158, -0.0456, -0.0251,  0.0000]])\n"
     ]
    }
   ],
   "source": [
    "print(f'Y shape: \\n\\t{Y.shape}')\n",
    "print(f'Y sample: \\n\\t{Y[0]}')"
   ]
  },
  {
   "cell_type": "markdown",
   "metadata": {},
   "source": [
    "**True labels**"
   ]
  },
  {
   "cell_type": "markdown",
   "metadata": {},
   "source": [
    "| Function                  | Arguments      | Description                                                                  |\n",
    "|---------------------------|----------------|------------------------------------------------------------------------------|\n",
    "| `get_Y_max_one`            | `Y`            | Pick one asset with the highest returns                                       |\n",
    "| `get_Y_max_light`          | `Y`            | Distribute weights among assets with positive returns depending on the returns value |\n",
    "| `get_Y_sharpe_one`         | `X, Y`         | Pick one asset with the highest Sharpe ratio                                  |\n",
    "| `get_Y_sharpe_light`       | `X, Y`         | Distribute weights among assets with positive returns depending on the Sharpe ratio value |"
   ]
  },
  {
   "cell_type": "code",
   "execution_count": 797,
   "metadata": {},
   "outputs": [
    {
     "name": "stdout",
     "output_type": "stream",
     "text": [
      "Y_true_labels shape: \n",
      "\ttorch.Size([8, 5])\n",
      "Y_true_labels sample: \n",
      "\ttensor([0.0324, 0.9676, 0.0000, 0.0000, 0.0000])\n"
     ]
    }
   ],
   "source": [
    "Y_true_labels = utils.get_Y_sharpe_light(X, Y)\n",
    "\n",
    "print(f'Y_true_labels shape: \\n\\t{Y_true_labels.shape}')\n",
    "print(f'Y_true_labels sample: \\n\\t{Y_true_labels[-1]}')"
   ]
  },
  {
   "cell_type": "markdown",
   "metadata": {},
   "source": [
    "### **Model**"
   ]
  },
  {
   "cell_type": "code",
   "execution_count": 798,
   "metadata": {},
   "outputs": [],
   "source": [
    "input_size = X.shape[2]\n",
    "hidden_size = 256\n",
    "output_size = Y_true_labels.shape[1]\n",
    "\n",
    "# Create the model\n",
    "lstm_model = model.LSTMModel(input_size=input_size,\n",
    "                  hidden_size=hidden_size,\n",
    "                  output_size=output_size,\n",
    "                  num_layers=2)\n",
    "\n",
    "# Loss and optimizer\n",
    "criterion = nn.MSELoss()\n",
    "# criterion = lstm_model.SharpeRatioLoss()\n",
    "optimizer = torch.optim.Adam(lstm_model.parameters(), lr=1e-4)"
   ]
  },
  {
   "cell_type": "markdown",
   "metadata": {},
   "source": [
    "### **Training**"
   ]
  },
  {
   "cell_type": "code",
   "execution_count": 799,
   "metadata": {},
   "outputs": [
    {
     "name": "stdout",
     "output_type": "stream",
     "text": [
      "Epoch [100/1000], Loss: 0.0801\n",
      "Epoch [200/1000], Loss: 0.0788\n",
      "Epoch [300/1000], Loss: 0.0626\n",
      "Epoch [400/1000], Loss: 0.0373\n",
      "Epoch [500/1000], Loss: 0.0269\n",
      "Epoch [600/1000], Loss: 0.0266\n",
      "Epoch [700/1000], Loss: 0.0126\n",
      "Epoch [800/1000], Loss: 0.0106\n",
      "Epoch [900/1000], Loss: 0.0127\n",
      "Epoch [1000/1000], Loss: 0.0026\n"
     ]
    }
   ],
   "source": [
    "num_epochs = 1000\n",
    "\n",
    "for epoch in range(num_epochs):\n",
    "    lstm_model.train()\n",
    "    optimizer.zero_grad()\n",
    "\n",
    "    # Forward pass\n",
    "    outputs = lstm_model(X)\n",
    "\n",
    "    # Calculate loss\n",
    "    loss = criterion(outputs, Y_true_labels)\n",
    "\n",
    "    # Backward pass and optimization\n",
    "    loss.backward()\n",
    "    optimizer.step()\n",
    "\n",
    "    if (epoch+1) % 100 == 0:\n",
    "        print(f'Epoch [{epoch+1}/{num_epochs}], Loss: {loss.item():.4f}')"
   ]
  },
  {
   "cell_type": "code",
   "execution_count": 800,
   "metadata": {},
   "outputs": [],
   "source": [
    "with torch.no_grad():\n",
    "    output_weights = lstm_model(X)"
   ]
  },
  {
   "cell_type": "code",
   "execution_count": 801,
   "metadata": {},
   "outputs": [
    {
     "data": {
      "text/html": [
       "<div>\n",
       "<style scoped>\n",
       "    .dataframe tbody tr th:only-of-type {\n",
       "        vertical-align: middle;\n",
       "    }\n",
       "\n",
       "    .dataframe tbody tr th {\n",
       "        vertical-align: top;\n",
       "    }\n",
       "\n",
       "    .dataframe thead th {\n",
       "        text-align: right;\n",
       "    }\n",
       "</style>\n",
       "<table border=\"1\" class=\"dataframe\">\n",
       "  <thead>\n",
       "    <tr style=\"text-align: right;\">\n",
       "      <th></th>\n",
       "      <th>ascending_1</th>\n",
       "      <th>ascending_2</th>\n",
       "      <th>descending_1</th>\n",
       "      <th>descending_2</th>\n",
       "    </tr>\n",
       "    <tr>\n",
       "      <th>Date</th>\n",
       "      <th></th>\n",
       "      <th></th>\n",
       "      <th></th>\n",
       "      <th></th>\n",
       "    </tr>\n",
       "  </thead>\n",
       "  <tbody>\n",
       "    <tr>\n",
       "      <th>2023-01-18</th>\n",
       "      <td>100.00</td>\n",
       "      <td>100.00</td>\n",
       "      <td>100.00</td>\n",
       "      <td>100.00</td>\n",
       "    </tr>\n",
       "    <tr>\n",
       "      <th>2023-01-19</th>\n",
       "      <td>100.00</td>\n",
       "      <td>100.00</td>\n",
       "      <td>100.00</td>\n",
       "      <td>100.00</td>\n",
       "    </tr>\n",
       "    <tr>\n",
       "      <th>2023-01-20</th>\n",
       "      <td>101.27</td>\n",
       "      <td>107.67</td>\n",
       "      <td>94.70</td>\n",
       "      <td>95.14</td>\n",
       "    </tr>\n",
       "    <tr>\n",
       "      <th>2023-01-21</th>\n",
       "      <td>107.78</td>\n",
       "      <td>114.30</td>\n",
       "      <td>94.11</td>\n",
       "      <td>90.60</td>\n",
       "    </tr>\n",
       "    <tr>\n",
       "      <th>2023-01-22</th>\n",
       "      <td>110.88</td>\n",
       "      <td>122.87</td>\n",
       "      <td>93.10</td>\n",
       "      <td>82.36</td>\n",
       "    </tr>\n",
       "    <tr>\n",
       "      <th>2023-01-23</th>\n",
       "      <td>115.83</td>\n",
       "      <td>124.81</td>\n",
       "      <td>88.85</td>\n",
       "      <td>80.29</td>\n",
       "    </tr>\n",
       "    <tr>\n",
       "      <th>2023-01-24</th>\n",
       "      <td>115.76</td>\n",
       "      <td>115.14</td>\n",
       "      <td>94.81</td>\n",
       "      <td>84.16</td>\n",
       "    </tr>\n",
       "    <tr>\n",
       "      <th>2023-01-25</th>\n",
       "      <td>106.03</td>\n",
       "      <td>104.35</td>\n",
       "      <td>99.62</td>\n",
       "      <td>86.57</td>\n",
       "    </tr>\n",
       "    <tr>\n",
       "      <th>2023-01-26</th>\n",
       "      <td>100.53</td>\n",
       "      <td>102.34</td>\n",
       "      <td>101.02</td>\n",
       "      <td>95.16</td>\n",
       "    </tr>\n",
       "    <tr>\n",
       "      <th>2023-01-27</th>\n",
       "      <td>93.70</td>\n",
       "      <td>94.37</td>\n",
       "      <td>104.82</td>\n",
       "      <td>95.63</td>\n",
       "    </tr>\n",
       "    <tr>\n",
       "      <th>2023-01-28</th>\n",
       "      <td>99.20</td>\n",
       "      <td>99.34</td>\n",
       "      <td>98.13</td>\n",
       "      <td>89.13</td>\n",
       "    </tr>\n",
       "    <tr>\n",
       "      <th>2023-01-29</th>\n",
       "      <td>101.82</td>\n",
       "      <td>102.72</td>\n",
       "      <td>94.21</td>\n",
       "      <td>82.91</td>\n",
       "    </tr>\n",
       "    <tr>\n",
       "      <th>2023-01-30</th>\n",
       "      <td>102.06</td>\n",
       "      <td>111.49</td>\n",
       "      <td>85.09</td>\n",
       "      <td>81.13</td>\n",
       "    </tr>\n",
       "  </tbody>\n",
       "</table>\n",
       "</div>"
      ],
      "text/plain": [
       "            ascending_1  ascending_2  descending_1  descending_2\n",
       "Date                                                            \n",
       "2023-01-18       100.00       100.00        100.00        100.00\n",
       "2023-01-19       100.00       100.00        100.00        100.00\n",
       "2023-01-20       101.27       107.67         94.70         95.14\n",
       "2023-01-21       107.78       114.30         94.11         90.60\n",
       "2023-01-22       110.88       122.87         93.10         82.36\n",
       "2023-01-23       115.83       124.81         88.85         80.29\n",
       "2023-01-24       115.76       115.14         94.81         84.16\n",
       "2023-01-25       106.03       104.35         99.62         86.57\n",
       "2023-01-26       100.53       102.34        101.02         95.16\n",
       "2023-01-27        93.70        94.37        104.82         95.63\n",
       "2023-01-28        99.20        99.34         98.13         89.13\n",
       "2023-01-29       101.82       102.72         94.21         82.91\n",
       "2023-01-30       102.06       111.49         85.09         81.13"
      ]
     },
     "execution_count": 801,
     "metadata": {},
     "output_type": "execute_result"
    }
   ],
   "source": [
    "data"
   ]
  },
  {
   "cell_type": "code",
   "execution_count": 802,
   "metadata": {},
   "outputs": [
    {
     "data": {
      "text/plain": [
       "tensor([[-0.0519, -0.0193,  0.0141,  0.0992,  0.0000],\n",
       "        [-0.0679, -0.0779,  0.0376,  0.0049,  0.0000],\n",
       "        [ 0.0587,  0.0527, -0.0638, -0.0680,  0.0000],\n",
       "        [ 0.0264,  0.0340, -0.0399, -0.0698,  0.0000]])"
      ]
     },
     "execution_count": 802,
     "metadata": {},
     "output_type": "execute_result"
    }
   ],
   "source": [
    "X[-1]"
   ]
  },
  {
   "cell_type": "code",
   "execution_count": 803,
   "metadata": {},
   "outputs": [
    {
     "data": {
      "text/plain": [
       "tensor([[ 0.0024,  0.0854, -0.0968, -0.0215,  0.0000]])"
      ]
     },
     "execution_count": 803,
     "metadata": {},
     "output_type": "execute_result"
    }
   ],
   "source": [
    "Y[-1]"
   ]
  },
  {
   "cell_type": "code",
   "execution_count": 804,
   "metadata": {},
   "outputs": [
    {
     "data": {
      "text/plain": [
       "tensor([[0.7979, 0.2021, 0.0000, 0.0000, 0.0000],\n",
       "        [0.0000, 0.0000, 0.5992, 0.4008, 0.0000],\n",
       "        [0.0000, 0.0000, 0.6825, 0.3175, 0.0000],\n",
       "        [0.0000, 0.0000, 0.1842, 0.8158, 0.0000],\n",
       "        [0.0000, 0.0000, 0.8905, 0.1095, 0.0000],\n",
       "        [0.5370, 0.4630, 0.0000, 0.0000, 0.0000],\n",
       "        [0.4467, 0.5533, 0.0000, 0.0000, 0.0000],\n",
       "        [0.0324, 0.9676, 0.0000, 0.0000, 0.0000]])"
      ]
     },
     "execution_count": 804,
     "metadata": {},
     "output_type": "execute_result"
    }
   ],
   "source": [
    "Y_true_labels"
   ]
  },
  {
   "cell_type": "code",
   "execution_count": 805,
   "metadata": {},
   "outputs": [
    {
     "name": "stdout",
     "output_type": "stream",
     "text": [
      "Output weights shape: torch.Size([8, 5])\n"
     ]
    },
    {
     "data": {
      "text/plain": [
       "[['78.03', '12.02', '9.91', '0.04', '0.00'],\n",
       " ['0.66', '0.01', '40.49', '58.83', '0.01'],\n",
       " ['0.38', '0.00', '66.57', '33.03', '0.02'],\n",
       " ['0.31', '0.00', '25.54', '74.14', '0.01'],\n",
       " ['6.59', '0.11', '87.72', '5.58', '0.00'],\n",
       " ['57.82', '41.82', '0.36', '0.00', '0.00'],\n",
       " ['35.06', '64.88', '0.05', '0.00', '0.00'],\n",
       " ['27.13', '72.84', '0.02', '0.00', '0.00']]"
      ]
     },
     "execution_count": 805,
     "metadata": {},
     "output_type": "execute_result"
    }
   ],
   "source": [
    "print(f'Output weights shape: {output_weights.shape}')\n",
    "[[f\"{elem * 100 :.2f}\" for elem in row] for row in output_weights]"
   ]
  }
 ],
 "metadata": {
  "kernelspec": {
   "display_name": "Python 3",
   "language": "python",
   "name": "python3"
  },
  "language_info": {
   "codemirror_mode": {
    "name": "ipython",
    "version": 3
   },
   "file_extension": ".py",
   "mimetype": "text/x-python",
   "name": "python",
   "nbconvert_exporter": "python",
   "pygments_lexer": "ipython3",
   "version": "3.12.4"
  }
 },
 "nbformat": 4,
 "nbformat_minor": 2
}
