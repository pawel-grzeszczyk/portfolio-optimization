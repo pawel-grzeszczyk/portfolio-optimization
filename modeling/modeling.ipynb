{
 "cells": [
  {
   "cell_type": "markdown",
   "metadata": {},
   "source": [
    "### **Imports**"
   ]
  },
  {
   "cell_type": "code",
   "execution_count": 116,
   "metadata": {},
   "outputs": [],
   "source": [
    "import numpy as np\n",
    "import pandas as pd"
   ]
  },
  {
   "cell_type": "code",
   "execution_count": 117,
   "metadata": {},
   "outputs": [],
   "source": [
    "import torch\n",
    "import torch.nn as nn\n",
    "from torch.autograd import Variable"
   ]
  },
  {
   "cell_type": "code",
   "execution_count": 118,
   "metadata": {},
   "outputs": [
    {
     "data": {
      "text/plain": [
       "<module 'utils' from '/Users/pawelgrzeszczyk/Documents/02_studies/master/portfolio-optimization-dl/main/modeling/utils.py'>"
      ]
     },
     "execution_count": 118,
     "metadata": {},
     "output_type": "execute_result"
    }
   ],
   "source": [
    "import importlib\n",
    "import utils\n",
    "importlib.reload(utils)"
   ]
  },
  {
   "cell_type": "markdown",
   "metadata": {},
   "source": [
    "### **Reading the dataset**"
   ]
  },
  {
   "cell_type": "code",
   "execution_count": 119,
   "metadata": {},
   "outputs": [
    {
     "name": "stdout",
     "output_type": "stream",
     "text": [
      "First row with no NaN values is from: (2021-05-27)\n",
      "Number of rows with NaN values removed: 2021-05-27\n",
      "Number of rows with no NaN values: 792\n"
     ]
    },
    {
     "data": {
      "text/html": [
       "<div>\n",
       "<style scoped>\n",
       "    .dataframe tbody tr th:only-of-type {\n",
       "        vertical-align: middle;\n",
       "    }\n",
       "\n",
       "    .dataframe tbody tr th {\n",
       "        vertical-align: top;\n",
       "    }\n",
       "\n",
       "    .dataframe thead th {\n",
       "        text-align: right;\n",
       "    }\n",
       "</style>\n",
       "<table border=\"1\" class=\"dataframe\">\n",
       "  <thead>\n",
       "    <tr style=\"text-align: right;\">\n",
       "      <th></th>\n",
       "      <th>ALE</th>\n",
       "      <th>ALR</th>\n",
       "      <th>BDX</th>\n",
       "      <th>CDR</th>\n",
       "      <th>CPS</th>\n",
       "      <th>DNP</th>\n",
       "      <th>JSW</th>\n",
       "      <th>KGH</th>\n",
       "      <th>KRU</th>\n",
       "      <th>KTY</th>\n",
       "      <th>LPP</th>\n",
       "      <th>MBK</th>\n",
       "      <th>OPL</th>\n",
       "      <th>PCO</th>\n",
       "      <th>PEO</th>\n",
       "      <th>PGE</th>\n",
       "      <th>PKN</th>\n",
       "      <th>PKO</th>\n",
       "      <th>PZU</th>\n",
       "      <th>SPL</th>\n",
       "    </tr>\n",
       "    <tr>\n",
       "      <th>Date</th>\n",
       "      <th></th>\n",
       "      <th></th>\n",
       "      <th></th>\n",
       "      <th></th>\n",
       "      <th></th>\n",
       "      <th></th>\n",
       "      <th></th>\n",
       "      <th></th>\n",
       "      <th></th>\n",
       "      <th></th>\n",
       "      <th></th>\n",
       "      <th></th>\n",
       "      <th></th>\n",
       "      <th></th>\n",
       "      <th></th>\n",
       "      <th></th>\n",
       "      <th></th>\n",
       "      <th></th>\n",
       "      <th></th>\n",
       "      <th></th>\n",
       "    </tr>\n",
       "  </thead>\n",
       "  <tbody>\n",
       "    <tr>\n",
       "      <th>2021-05-27</th>\n",
       "      <td>58.279999</td>\n",
       "      <td>32.900002</td>\n",
       "      <td>313.5</td>\n",
       "      <td>175.500000</td>\n",
       "      <td>30.700001</td>\n",
       "      <td>283.899994</td>\n",
       "      <td>36.299999</td>\n",
       "      <td>200.000000</td>\n",
       "      <td>247.600006</td>\n",
       "      <td>643.0</td>\n",
       "      <td>11040.0</td>\n",
       "      <td>297.799988</td>\n",
       "      <td>6.695</td>\n",
       "      <td>44.000000</td>\n",
       "      <td>93.760002</td>\n",
       "      <td>10.025</td>\n",
       "      <td>78.279999</td>\n",
       "      <td>39.290001</td>\n",
       "      <td>36.169998</td>\n",
       "      <td>265.700012</td>\n",
       "    </tr>\n",
       "    <tr>\n",
       "      <th>2021-05-28</th>\n",
       "      <td>58.500000</td>\n",
       "      <td>33.990002</td>\n",
       "      <td>306.0</td>\n",
       "      <td>178.580002</td>\n",
       "      <td>30.700001</td>\n",
       "      <td>285.000000</td>\n",
       "      <td>36.310001</td>\n",
       "      <td>202.899994</td>\n",
       "      <td>258.000000</td>\n",
       "      <td>599.0</td>\n",
       "      <td>11470.0</td>\n",
       "      <td>300.000000</td>\n",
       "      <td>6.710</td>\n",
       "      <td>44.645000</td>\n",
       "      <td>95.500000</td>\n",
       "      <td>10.165</td>\n",
       "      <td>79.940002</td>\n",
       "      <td>39.799999</td>\n",
       "      <td>36.900002</td>\n",
       "      <td>271.299988</td>\n",
       "    </tr>\n",
       "    <tr>\n",
       "      <th>2021-05-31</th>\n",
       "      <td>57.660000</td>\n",
       "      <td>33.740002</td>\n",
       "      <td>298.5</td>\n",
       "      <td>168.740005</td>\n",
       "      <td>30.500000</td>\n",
       "      <td>284.600006</td>\n",
       "      <td>36.490002</td>\n",
       "      <td>202.000000</td>\n",
       "      <td>258.000000</td>\n",
       "      <td>624.0</td>\n",
       "      <td>11200.0</td>\n",
       "      <td>302.399994</td>\n",
       "      <td>6.650</td>\n",
       "      <td>44.000000</td>\n",
       "      <td>95.959999</td>\n",
       "      <td>9.986</td>\n",
       "      <td>81.800003</td>\n",
       "      <td>40.669998</td>\n",
       "      <td>37.060001</td>\n",
       "      <td>267.000000</td>\n",
       "    </tr>\n",
       "    <tr>\n",
       "      <th>2021-06-01</th>\n",
       "      <td>59.209999</td>\n",
       "      <td>34.480000</td>\n",
       "      <td>299.0</td>\n",
       "      <td>153.380005</td>\n",
       "      <td>30.760000</td>\n",
       "      <td>283.799988</td>\n",
       "      <td>34.799999</td>\n",
       "      <td>208.800003</td>\n",
       "      <td>262.000000</td>\n",
       "      <td>610.0</td>\n",
       "      <td>11320.0</td>\n",
       "      <td>307.000000</td>\n",
       "      <td>6.680</td>\n",
       "      <td>44.000000</td>\n",
       "      <td>96.699997</td>\n",
       "      <td>9.936</td>\n",
       "      <td>81.680000</td>\n",
       "      <td>39.950001</td>\n",
       "      <td>37.290001</td>\n",
       "      <td>269.000000</td>\n",
       "    </tr>\n",
       "    <tr>\n",
       "      <th>2021-06-02</th>\n",
       "      <td>59.180000</td>\n",
       "      <td>34.410000</td>\n",
       "      <td>295.0</td>\n",
       "      <td>161.580002</td>\n",
       "      <td>31.620001</td>\n",
       "      <td>286.100006</td>\n",
       "      <td>34.849998</td>\n",
       "      <td>209.500000</td>\n",
       "      <td>278.600006</td>\n",
       "      <td>592.0</td>\n",
       "      <td>11360.0</td>\n",
       "      <td>300.000000</td>\n",
       "      <td>6.700</td>\n",
       "      <td>43.735001</td>\n",
       "      <td>97.260002</td>\n",
       "      <td>10.240</td>\n",
       "      <td>81.180000</td>\n",
       "      <td>40.090000</td>\n",
       "      <td>37.900002</td>\n",
       "      <td>271.299988</td>\n",
       "    </tr>\n",
       "  </tbody>\n",
       "</table>\n",
       "</div>"
      ],
      "text/plain": [
       "                  ALE        ALR    BDX         CDR        CPS         DNP  \\\n",
       "Date                                                                         \n",
       "2021-05-27  58.279999  32.900002  313.5  175.500000  30.700001  283.899994   \n",
       "2021-05-28  58.500000  33.990002  306.0  178.580002  30.700001  285.000000   \n",
       "2021-05-31  57.660000  33.740002  298.5  168.740005  30.500000  284.600006   \n",
       "2021-06-01  59.209999  34.480000  299.0  153.380005  30.760000  283.799988   \n",
       "2021-06-02  59.180000  34.410000  295.0  161.580002  31.620001  286.100006   \n",
       "\n",
       "                  JSW         KGH         KRU    KTY      LPP         MBK  \\\n",
       "Date                                                                        \n",
       "2021-05-27  36.299999  200.000000  247.600006  643.0  11040.0  297.799988   \n",
       "2021-05-28  36.310001  202.899994  258.000000  599.0  11470.0  300.000000   \n",
       "2021-05-31  36.490002  202.000000  258.000000  624.0  11200.0  302.399994   \n",
       "2021-06-01  34.799999  208.800003  262.000000  610.0  11320.0  307.000000   \n",
       "2021-06-02  34.849998  209.500000  278.600006  592.0  11360.0  300.000000   \n",
       "\n",
       "              OPL        PCO        PEO     PGE        PKN        PKO  \\\n",
       "Date                                                                    \n",
       "2021-05-27  6.695  44.000000  93.760002  10.025  78.279999  39.290001   \n",
       "2021-05-28  6.710  44.645000  95.500000  10.165  79.940002  39.799999   \n",
       "2021-05-31  6.650  44.000000  95.959999   9.986  81.800003  40.669998   \n",
       "2021-06-01  6.680  44.000000  96.699997   9.936  81.680000  39.950001   \n",
       "2021-06-02  6.700  43.735001  97.260002  10.240  81.180000  40.090000   \n",
       "\n",
       "                  PZU         SPL  \n",
       "Date                               \n",
       "2021-05-27  36.169998  265.700012  \n",
       "2021-05-28  36.900002  271.299988  \n",
       "2021-05-31  37.060001  267.000000  \n",
       "2021-06-01  37.290001  269.000000  \n",
       "2021-06-02  37.900002  271.299988  "
      ]
     },
     "execution_count": 119,
     "metadata": {},
     "output_type": "execute_result"
    }
   ],
   "source": [
    "# Reading data, renaming columns and reordering\n",
    "data = pd.read_csv('../data/data_files/w20_stock.csv').filter(regex='^Close_')\n",
    "data.columns = [x.split('_')[1].split('.')[0] for x in data.columns]\n",
    "data['Date'] = pd.read_csv('../data/data_files/w20_stock.csv')['Date']\n",
    "data.insert(0, 'Date', data.pop('Date'))\n",
    "\n",
    "# Date as index\n",
    "data = data.set_index('Date')\n",
    "\n",
    "# Getting the first row with no NaN values\n",
    "first_full_row = data.dropna().first_valid_index()\n",
    "print(f'First row with no NaN values is from: ({first_full_row})')\n",
    "\n",
    "# Removing rows with NaN values\n",
    "data = data.loc[first_full_row:]\n",
    "print(f'Number of rows with NaN values removed: {first_full_row}')\n",
    "print(f'Number of rows with no NaN values: {data.shape[0]}')\n",
    "data.head()"
   ]
  },
  {
   "cell_type": "markdown",
   "metadata": {},
   "source": [
    "### **Prepare data for the model**"
   ]
  },
  {
   "cell_type": "markdown",
   "metadata": {},
   "source": [
    "**Calculating percentage changes**"
   ]
  },
  {
   "cell_type": "code",
   "execution_count": 120,
   "metadata": {},
   "outputs": [
    {
     "name": "stdout",
     "output_type": "stream",
     "text": [
      "Data shape: (791, 21)\n"
     ]
    },
    {
     "data": {
      "text/html": [
       "<div>\n",
       "<style scoped>\n",
       "    .dataframe tbody tr th:only-of-type {\n",
       "        vertical-align: middle;\n",
       "    }\n",
       "\n",
       "    .dataframe tbody tr th {\n",
       "        vertical-align: top;\n",
       "    }\n",
       "\n",
       "    .dataframe thead th {\n",
       "        text-align: right;\n",
       "    }\n",
       "</style>\n",
       "<table border=\"1\" class=\"dataframe\">\n",
       "  <thead>\n",
       "    <tr style=\"text-align: right;\">\n",
       "      <th></th>\n",
       "      <th>ALE</th>\n",
       "      <th>ALR</th>\n",
       "      <th>BDX</th>\n",
       "      <th>CDR</th>\n",
       "      <th>CPS</th>\n",
       "      <th>DNP</th>\n",
       "      <th>JSW</th>\n",
       "      <th>KGH</th>\n",
       "      <th>KRU</th>\n",
       "      <th>KTY</th>\n",
       "      <th>...</th>\n",
       "      <th>MBK</th>\n",
       "      <th>OPL</th>\n",
       "      <th>PCO</th>\n",
       "      <th>PEO</th>\n",
       "      <th>PGE</th>\n",
       "      <th>PKN</th>\n",
       "      <th>PKO</th>\n",
       "      <th>PZU</th>\n",
       "      <th>SPL</th>\n",
       "      <th>SAVE</th>\n",
       "    </tr>\n",
       "    <tr>\n",
       "      <th>Date</th>\n",
       "      <th></th>\n",
       "      <th></th>\n",
       "      <th></th>\n",
       "      <th></th>\n",
       "      <th></th>\n",
       "      <th></th>\n",
       "      <th></th>\n",
       "      <th></th>\n",
       "      <th></th>\n",
       "      <th></th>\n",
       "      <th></th>\n",
       "      <th></th>\n",
       "      <th></th>\n",
       "      <th></th>\n",
       "      <th></th>\n",
       "      <th></th>\n",
       "      <th></th>\n",
       "      <th></th>\n",
       "      <th></th>\n",
       "      <th></th>\n",
       "      <th></th>\n",
       "    </tr>\n",
       "  </thead>\n",
       "  <tbody>\n",
       "    <tr>\n",
       "      <th>2021-05-28</th>\n",
       "      <td>0.003775</td>\n",
       "      <td>0.033131</td>\n",
       "      <td>-0.023923</td>\n",
       "      <td>0.017550</td>\n",
       "      <td>0.000000</td>\n",
       "      <td>0.003875</td>\n",
       "      <td>0.000276</td>\n",
       "      <td>0.014500</td>\n",
       "      <td>0.042003</td>\n",
       "      <td>-0.068429</td>\n",
       "      <td>...</td>\n",
       "      <td>0.007388</td>\n",
       "      <td>0.002240</td>\n",
       "      <td>0.014659</td>\n",
       "      <td>0.018558</td>\n",
       "      <td>0.013965</td>\n",
       "      <td>0.021206</td>\n",
       "      <td>0.012980</td>\n",
       "      <td>0.020183</td>\n",
       "      <td>0.021076</td>\n",
       "      <td>0</td>\n",
       "    </tr>\n",
       "    <tr>\n",
       "      <th>2021-05-31</th>\n",
       "      <td>-0.014359</td>\n",
       "      <td>-0.007355</td>\n",
       "      <td>-0.024510</td>\n",
       "      <td>-0.055101</td>\n",
       "      <td>-0.006515</td>\n",
       "      <td>-0.001403</td>\n",
       "      <td>0.004957</td>\n",
       "      <td>-0.004436</td>\n",
       "      <td>0.000000</td>\n",
       "      <td>0.041736</td>\n",
       "      <td>...</td>\n",
       "      <td>0.008000</td>\n",
       "      <td>-0.008942</td>\n",
       "      <td>-0.014447</td>\n",
       "      <td>0.004817</td>\n",
       "      <td>-0.017609</td>\n",
       "      <td>0.023267</td>\n",
       "      <td>0.021859</td>\n",
       "      <td>0.004336</td>\n",
       "      <td>-0.015850</td>\n",
       "      <td>0</td>\n",
       "    </tr>\n",
       "    <tr>\n",
       "      <th>2021-06-01</th>\n",
       "      <td>0.026882</td>\n",
       "      <td>0.021932</td>\n",
       "      <td>0.001675</td>\n",
       "      <td>-0.091028</td>\n",
       "      <td>0.008525</td>\n",
       "      <td>-0.002811</td>\n",
       "      <td>-0.046314</td>\n",
       "      <td>0.033663</td>\n",
       "      <td>0.015504</td>\n",
       "      <td>-0.022436</td>\n",
       "      <td>...</td>\n",
       "      <td>0.015212</td>\n",
       "      <td>0.004511</td>\n",
       "      <td>0.000000</td>\n",
       "      <td>0.007712</td>\n",
       "      <td>-0.005007</td>\n",
       "      <td>-0.001467</td>\n",
       "      <td>-0.017703</td>\n",
       "      <td>0.006206</td>\n",
       "      <td>0.007491</td>\n",
       "      <td>0</td>\n",
       "    </tr>\n",
       "    <tr>\n",
       "      <th>2021-06-02</th>\n",
       "      <td>-0.000507</td>\n",
       "      <td>-0.002030</td>\n",
       "      <td>-0.013378</td>\n",
       "      <td>0.053462</td>\n",
       "      <td>0.027958</td>\n",
       "      <td>0.008104</td>\n",
       "      <td>0.001437</td>\n",
       "      <td>0.003352</td>\n",
       "      <td>0.063359</td>\n",
       "      <td>-0.029508</td>\n",
       "      <td>...</td>\n",
       "      <td>-0.022801</td>\n",
       "      <td>0.002994</td>\n",
       "      <td>-0.006023</td>\n",
       "      <td>0.005791</td>\n",
       "      <td>0.030596</td>\n",
       "      <td>-0.006121</td>\n",
       "      <td>0.003504</td>\n",
       "      <td>0.016358</td>\n",
       "      <td>0.008550</td>\n",
       "      <td>0</td>\n",
       "    </tr>\n",
       "    <tr>\n",
       "      <th>2021-06-04</th>\n",
       "      <td>-0.006928</td>\n",
       "      <td>0.009881</td>\n",
       "      <td>0.011864</td>\n",
       "      <td>0.059537</td>\n",
       "      <td>-0.028463</td>\n",
       "      <td>0.001748</td>\n",
       "      <td>0.021521</td>\n",
       "      <td>-0.024821</td>\n",
       "      <td>-0.003589</td>\n",
       "      <td>-0.016892</td>\n",
       "      <td>...</td>\n",
       "      <td>0.005333</td>\n",
       "      <td>0.018657</td>\n",
       "      <td>0.002515</td>\n",
       "      <td>0.001439</td>\n",
       "      <td>0.042481</td>\n",
       "      <td>0.004435</td>\n",
       "      <td>0.007733</td>\n",
       "      <td>0.008179</td>\n",
       "      <td>0.008846</td>\n",
       "      <td>0</td>\n",
       "    </tr>\n",
       "  </tbody>\n",
       "</table>\n",
       "<p>5 rows × 21 columns</p>\n",
       "</div>"
      ],
      "text/plain": [
       "                 ALE       ALR       BDX       CDR       CPS       DNP  \\\n",
       "Date                                                                     \n",
       "2021-05-28  0.003775  0.033131 -0.023923  0.017550  0.000000  0.003875   \n",
       "2021-05-31 -0.014359 -0.007355 -0.024510 -0.055101 -0.006515 -0.001403   \n",
       "2021-06-01  0.026882  0.021932  0.001675 -0.091028  0.008525 -0.002811   \n",
       "2021-06-02 -0.000507 -0.002030 -0.013378  0.053462  0.027958  0.008104   \n",
       "2021-06-04 -0.006928  0.009881  0.011864  0.059537 -0.028463  0.001748   \n",
       "\n",
       "                 JSW       KGH       KRU       KTY  ...       MBK       OPL  \\\n",
       "Date                                                ...                       \n",
       "2021-05-28  0.000276  0.014500  0.042003 -0.068429  ...  0.007388  0.002240   \n",
       "2021-05-31  0.004957 -0.004436  0.000000  0.041736  ...  0.008000 -0.008942   \n",
       "2021-06-01 -0.046314  0.033663  0.015504 -0.022436  ...  0.015212  0.004511   \n",
       "2021-06-02  0.001437  0.003352  0.063359 -0.029508  ... -0.022801  0.002994   \n",
       "2021-06-04  0.021521 -0.024821 -0.003589 -0.016892  ...  0.005333  0.018657   \n",
       "\n",
       "                 PCO       PEO       PGE       PKN       PKO       PZU  \\\n",
       "Date                                                                     \n",
       "2021-05-28  0.014659  0.018558  0.013965  0.021206  0.012980  0.020183   \n",
       "2021-05-31 -0.014447  0.004817 -0.017609  0.023267  0.021859  0.004336   \n",
       "2021-06-01  0.000000  0.007712 -0.005007 -0.001467 -0.017703  0.006206   \n",
       "2021-06-02 -0.006023  0.005791  0.030596 -0.006121  0.003504  0.016358   \n",
       "2021-06-04  0.002515  0.001439  0.042481  0.004435  0.007733  0.008179   \n",
       "\n",
       "                 SPL  SAVE  \n",
       "Date                        \n",
       "2021-05-28  0.021076     0  \n",
       "2021-05-31 -0.015850     0  \n",
       "2021-06-01  0.007491     0  \n",
       "2021-06-02  0.008550     0  \n",
       "2021-06-04  0.008846     0  \n",
       "\n",
       "[5 rows x 21 columns]"
      ]
     },
     "execution_count": 120,
     "metadata": {},
     "output_type": "execute_result"
    }
   ],
   "source": [
    "# Calculate daily returns\n",
    "data_returns = data.pct_change().dropna()\n",
    "\n",
    "# Add new row equal to 0 - don't invest in anything\n",
    "data_returns['SAVE'] = 0\n",
    "\n",
    "print(f'Data shape: {data_returns.shape}')\n",
    "data_returns.head()"
   ]
  },
  {
   "cell_type": "markdown",
   "metadata": {},
   "source": [
    "**Convert to target shape**"
   ]
  },
  {
   "cell_type": "code",
   "execution_count": 121,
   "metadata": {},
   "outputs": [],
   "source": [
    "# Parameters\n",
    "seq_len = 30\n",
    "batch_size = len(data_returns) - seq_len\n",
    "input_size = len(data_returns.columns)\n",
    "\n",
    "# Convert DataFrame to NumPy for easier slicing\n",
    "data_returns_np = data_returns.values\n",
    "\n",
    "# Create sequences\n",
    "X = []\n",
    "Y = []\n",
    "for i in range(batch_size):\n",
    "    X.append(data_returns_np[i:i+seq_len])\n",
    "\n",
    "    # Get the index of the highest return for the next day\n",
    "    next_day_returns = data_returns_np[i+seq_len]\n",
    "    Y.append(next_day_returns)\n",
    "\n",
    "# Convert lists to NumPy arrays\n",
    "X = np.array(X)  # Shape: (batch_size, seq_len, input_size)\n",
    "Y = np.array(Y)  # Shape: (batch_size, input_size)\n",
    "\n",
    "# Convert to PyTorch tensors\n",
    "X = torch.tensor(X, dtype=torch.float32)  # Shape: (batch_size, seq_len, input_size)\n",
    "Y = torch.tensor(Y, dtype=torch.float32)  # Shape: (batch_size, input_size)"
   ]
  },
  {
   "cell_type": "code",
   "execution_count": 122,
   "metadata": {},
   "outputs": [
    {
     "name": "stdout",
     "output_type": "stream",
     "text": [
      "X shape: \n",
      "\ttorch.Size([761, 30, 21])\n",
      "X sample: \n",
      "\ttensor([[ 0.0038,  0.0331, -0.0239,  0.0175,  0.0000,  0.0039,  0.0003,  0.0145,\n",
      "          0.0420, -0.0684,  0.0389,  0.0074,  0.0022,  0.0147,  0.0186,  0.0140,\n",
      "          0.0212,  0.0130,  0.0202,  0.0211,  0.0000],\n",
      "        [-0.0144, -0.0074, -0.0245, -0.0551, -0.0065, -0.0014,  0.0050, -0.0044,\n",
      "          0.0000,  0.0417, -0.0235,  0.0080, -0.0089, -0.0144,  0.0048, -0.0176,\n",
      "          0.0233,  0.0219,  0.0043, -0.0158,  0.0000]])\n"
     ]
    }
   ],
   "source": [
    "print(f'X shape: \\n\\t{X.shape}')\n",
    "print(f'X sample: \\n\\t{X[0][:2]}')"
   ]
  },
  {
   "cell_type": "code",
   "execution_count": 123,
   "metadata": {},
   "outputs": [
    {
     "name": "stdout",
     "output_type": "stream",
     "text": [
      "Y shape: \n",
      "\ttorch.Size([761, 21])\n",
      "Y sample: \n",
      "\ttensor([ 0.0299, -0.0476, -0.0037,  0.0737,  0.0127,  0.0284, -0.0304, -0.0122,\n",
      "         0.0303,  0.0043, -0.0095, -0.0571,  0.0236,  0.0085, -0.0178, -0.0111,\n",
      "         0.0129, -0.0214, -0.0086, -0.0407,  0.0000])\n"
     ]
    }
   ],
   "source": [
    "print(f'Y shape: \\n\\t{Y.shape}')\n",
    "print(f'Y sample: \\n\\t{Y[0]}')"
   ]
  },
  {
   "cell_type": "code",
   "execution_count": 124,
   "metadata": {},
   "outputs": [
    {
     "name": "stdout",
     "output_type": "stream",
     "text": [
      "Y_max shape: \n",
      "\ttorch.Size([761, 21])\n",
      "Y_max sample: \n",
      "\ttensor([0., 0., 0., 1., 0., 0., 0., 0., 0., 0., 0., 0., 0., 0., 0., 0., 0., 0.,\n",
      "        0., 0., 0.])\n"
     ]
    }
   ],
   "source": [
    "Y_max_id = Y.argmax(axis=1)\n",
    "Y_max = torch.zeros_like(Y)\n",
    "Y_max[torch.arange(Y_max_id.shape[0]), Y_max_id] = 1\n",
    "\n",
    "print(f'Y_max shape: \\n\\t{Y_max.shape}')\n",
    "print(f'Y_max sample: \\n\\t{Y_max[0]}')"
   ]
  },
  {
   "cell_type": "markdown",
   "metadata": {},
   "source": [
    "### **Model**"
   ]
  },
  {
   "cell_type": "code",
   "execution_count": 125,
   "metadata": {},
   "outputs": [],
   "source": [
    "class LSTMModel(nn.Module): \n",
    "    def __init__(self, input_size, hidden_size, output_size, num_layers, dropout_rate=0.5): \n",
    "        super(LSTMModel, self).__init__() \n",
    "        self.input_size = input_size #input size \n",
    "        self.hidden_size = hidden_size #hidden state \n",
    "        self.output_size = output_size #number of classes \n",
    "        self.num_layers = num_layers #number of layers \n",
    "\n",
    "        self.lstm = nn.LSTM(input_size=input_size, hidden_size=hidden_size, num_layers=num_layers, batch_first=True, dropout=dropout_rate) #lstm \n",
    "        self.fc =  nn.Linear(hidden_size, hidden_size) #fully connected 1 \n",
    "        self.fc_out = nn.Linear(hidden_size, output_size) #fully connected 2 \n",
    "        self.relu = nn.ReLU() \n",
    "        self.softmax = nn.Softmax(dim=1)\n",
    "        \n",
    "    def forward(self, x): \n",
    "        h_0 = Variable(torch.zeros(self.num_layers, x.size(0), self.hidden_size)) #hidden state \n",
    "        c_0 = Variable(torch.zeros(self.num_layers, x.size(0), self.hidden_size)) #internal state \n",
    "\n",
    "        # LSTM layer \n",
    "        lstm_out, (hn, cn) = self.lstm(x, (h_0, c_0)) #lstm with input, hidden, and internal state \n",
    "        x = lstm_out[:, -1, :]  # (batch_size, hidden_size)\n",
    "        x = self.relu(x) \n",
    "        x = self.fc(x) \n",
    "        x = self.relu(x) \n",
    "        x = self.fc_out(x) \n",
    "\n",
    "        # Pass the output through the softmax function (to get sum equal to 1) \n",
    "        out = self.softmax(x)\n",
    "        \n",
    "        return out"
   ]
  },
  {
   "cell_type": "markdown",
   "metadata": {},
   "source": [
    "### **Training**"
   ]
  },
  {
   "cell_type": "code",
   "execution_count": 126,
   "metadata": {},
   "outputs": [
    {
     "name": "stdout",
     "output_type": "stream",
     "text": [
      "Epoch [1/10], Loss: 0.0454\n",
      "Epoch [2/10], Loss: 0.0449\n",
      "Epoch [3/10], Loss: 0.0486\n",
      "Epoch [4/10], Loss: 0.0450\n",
      "Epoch [5/10], Loss: 0.0451\n",
      "Epoch [6/10], Loss: 0.0450\n",
      "Epoch [7/10], Loss: 0.0448\n",
      "Epoch [8/10], Loss: 0.0454\n",
      "Epoch [9/10], Loss: 0.0450\n",
      "Epoch [10/10], Loss: 0.0450\n"
     ]
    }
   ],
   "source": [
    "input_size = X.shape[2]\n",
    "hidden_size = 128\n",
    "output_size = Y.shape[1]\n",
    "\n",
    "# Create the model\n",
    "model = LSTMModel(input_size=input_size,\n",
    "                  hidden_size=hidden_size,\n",
    "                  output_size=output_size,\n",
    "                  num_layers=2)\n",
    "\n",
    "# Loss and optimizer\n",
    "criterion = nn.MSELoss()\n",
    "optimizer = torch.optim.Adam(model.parameters(), lr=0.1, weight_decay=1e-4)\n",
    "\n",
    "# Training\n",
    "num_epochs = 10\n",
    "\n",
    "for epoch in range(num_epochs):\n",
    "    model.train()\n",
    "    optimizer.zero_grad()\n",
    "\n",
    "    # Forward pass\n",
    "    outputs = model(X)\n",
    "\n",
    "    # Calculate loss\n",
    "    loss = criterion(outputs, Y_max)\n",
    "\n",
    "    # Backward pass and optimization\n",
    "    loss.backward()\n",
    "    optimizer.step()\n",
    "\n",
    "    if (epoch+1) % 1 == 0:\n",
    "        print(f'Epoch [{epoch+1}/{num_epochs}], Loss: {loss.item():.4f}')"
   ]
  },
  {
   "cell_type": "code",
   "execution_count": 128,
   "metadata": {},
   "outputs": [],
   "source": [
    "with torch.no_grad():\n",
    "    output_weights = model(X)"
   ]
  },
  {
   "cell_type": "code",
   "execution_count": 129,
   "metadata": {},
   "outputs": [
    {
     "data": {
      "text/plain": [
       "torch.Size([761, 21])"
      ]
     },
     "execution_count": 129,
     "metadata": {},
     "output_type": "execute_result"
    }
   ],
   "source": [
    "output_weights.shape"
   ]
  },
  {
   "cell_type": "code",
   "execution_count": 130,
   "metadata": {},
   "outputs": [
    {
     "data": {
      "text/plain": [
       "tensor([49., 50., 64., 53., 35., 38., 88., 47., 32., 29., 49., 42., 20., 34.,\n",
       "        15., 48., 18., 12.,  9., 19., 10.])"
      ]
     },
     "execution_count": 130,
     "metadata": {},
     "output_type": "execute_result"
    }
   ],
   "source": [
    "torch.sum(Y_max, dim=0)"
   ]
  },
  {
   "cell_type": "code",
   "execution_count": 131,
   "metadata": {},
   "outputs": [
    {
     "data": {
      "text/plain": [
       "tensor([0.0658, 0.0681, 0.0882, 0.0696, 0.0506, 0.0503, 0.0367, 0.0648, 0.0434,\n",
       "        0.0417, 0.0664, 0.0595, 0.0313, 0.0484, 0.0246, 0.0669, 0.0275, 0.0240,\n",
       "        0.0203, 0.0290, 0.0230])"
      ]
     },
     "execution_count": 131,
     "metadata": {},
     "output_type": "execute_result"
    }
   ],
   "source": [
    "output_weights[0]"
   ]
  },
  {
   "cell_type": "code",
   "execution_count": 132,
   "metadata": {},
   "outputs": [
    {
     "data": {
      "text/plain": [
       "tensor(8.8172)"
      ]
     },
     "execution_count": 132,
     "metadata": {},
     "output_type": "execute_result"
    }
   ],
   "source": [
    "torch.max(output_weights[0] * 100)"
   ]
  },
  {
   "cell_type": "code",
   "execution_count": 133,
   "metadata": {},
   "outputs": [
    {
     "data": {
      "text/plain": [
       "tensor([0.0659, 0.0683, 0.0887, 0.0699, 0.0505, 0.0501, 0.0369, 0.0649, 0.0432,\n",
       "        0.0414, 0.0665, 0.0597, 0.0312, 0.0484, 0.0244, 0.0671, 0.0274, 0.0238,\n",
       "        0.0201, 0.0289, 0.0228])"
      ]
     },
     "execution_count": 133,
     "metadata": {},
     "output_type": "execute_result"
    }
   ],
   "source": [
    "output_weights[65]"
   ]
  }
 ],
 "metadata": {
  "kernelspec": {
   "display_name": "Python 3",
   "language": "python",
   "name": "python3"
  },
  "language_info": {
   "codemirror_mode": {
    "name": "ipython",
    "version": 3
   },
   "file_extension": ".py",
   "mimetype": "text/x-python",
   "name": "python",
   "nbconvert_exporter": "python",
   "pygments_lexer": "ipython3",
   "version": "3.12.4"
  }
 },
 "nbformat": 4,
 "nbformat_minor": 2
}
