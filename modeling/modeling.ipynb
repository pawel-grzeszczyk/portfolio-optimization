{
 "cells": [
  {
   "cell_type": "markdown",
   "metadata": {},
   "source": [
    "### **Imports**"
   ]
  },
  {
   "cell_type": "code",
   "execution_count": 251,
   "metadata": {},
   "outputs": [],
   "source": [
    "import numpy as np\n",
    "import pandas as pd\n",
    "from datetime import datetime, timedelta"
   ]
  },
  {
   "cell_type": "code",
   "execution_count": 252,
   "metadata": {},
   "outputs": [],
   "source": [
    "import torch\n",
    "import torch.nn as nn\n",
    "from torch.autograd import Variable"
   ]
  },
  {
   "cell_type": "code",
   "execution_count": 253,
   "metadata": {},
   "outputs": [
    {
     "data": {
      "text/plain": [
       "<module 'model' from '/Users/pawelgrzeszczyk/Documents/02_studies/master/portfolio-optimization-dl/main/modeling/model.py'>"
      ]
     },
     "execution_count": 253,
     "metadata": {},
     "output_type": "execute_result"
    }
   ],
   "source": [
    "import importlib\n",
    "import utils, model\n",
    "importlib.reload(utils)\n",
    "importlib.reload(model)"
   ]
  },
  {
   "cell_type": "markdown",
   "metadata": {},
   "source": [
    "### **Reading the dataset**"
   ]
  },
  {
   "cell_type": "code",
   "execution_count": 254,
   "metadata": {},
   "outputs": [],
   "source": [
    "# # Reading data, renaming columns and reordering\n",
    "# data = pd.read_csv('../data/data_files/w20_stock.csv').filter(regex='^Close_')\n",
    "# data.columns = [x.split('_')[1].split('.')[0] for x in data.columns]\n",
    "# data['Date'] = pd.read_csv('../data/data_files/w20_stock.csv')['Date']\n",
    "# data.insert(0, 'Date', data.pop('Date'))\n",
    "\n",
    "# # Date as index\n",
    "# data = data.set_index('Date')\n",
    "\n",
    "# # Getting the first row with no NaN values\n",
    "# first_full_row = data.dropna().first_valid_index()\n",
    "# print(f'First row with no NaN values is from: ({first_full_row})')\n",
    "\n",
    "# # Removing rows with NaN values\n",
    "# data = data.loc[first_full_row:]\n",
    "# print(f'Number of rows with NaN values removed: {first_full_row}')\n",
    "# print(f'Number of rows with no NaN values: {data.shape[0]}')\n",
    "# data.head()"
   ]
  },
  {
   "cell_type": "code",
   "execution_count": 255,
   "metadata": {},
   "outputs": [
    {
     "data": {
      "text/html": [
       "<div>\n",
       "<style scoped>\n",
       "    .dataframe tbody tr th:only-of-type {\n",
       "        vertical-align: middle;\n",
       "    }\n",
       "\n",
       "    .dataframe tbody tr th {\n",
       "        vertical-align: top;\n",
       "    }\n",
       "\n",
       "    .dataframe thead th {\n",
       "        text-align: right;\n",
       "    }\n",
       "</style>\n",
       "<table border=\"1\" class=\"dataframe\">\n",
       "  <thead>\n",
       "    <tr style=\"text-align: right;\">\n",
       "      <th></th>\n",
       "      <th>ascending_1</th>\n",
       "      <th>ascending_2</th>\n",
       "      <th>descending_1</th>\n",
       "      <th>descending_2</th>\n",
       "    </tr>\n",
       "    <tr>\n",
       "      <th>Date</th>\n",
       "      <th></th>\n",
       "      <th></th>\n",
       "      <th></th>\n",
       "      <th></th>\n",
       "    </tr>\n",
       "  </thead>\n",
       "  <tbody>\n",
       "    <tr>\n",
       "      <th>2022-10-17</th>\n",
       "      <td>100.00</td>\n",
       "      <td>100.00</td>\n",
       "      <td>100.00</td>\n",
       "      <td>100.00</td>\n",
       "    </tr>\n",
       "    <tr>\n",
       "      <th>2022-10-18</th>\n",
       "      <td>100.00</td>\n",
       "      <td>100.00</td>\n",
       "      <td>100.00</td>\n",
       "      <td>100.00</td>\n",
       "    </tr>\n",
       "    <tr>\n",
       "      <th>2022-10-19</th>\n",
       "      <td>109.28</td>\n",
       "      <td>102.43</td>\n",
       "      <td>93.92</td>\n",
       "      <td>92.83</td>\n",
       "    </tr>\n",
       "    <tr>\n",
       "      <th>2022-10-20</th>\n",
       "      <td>112.34</td>\n",
       "      <td>108.82</td>\n",
       "      <td>93.25</td>\n",
       "      <td>86.44</td>\n",
       "    </tr>\n",
       "    <tr>\n",
       "      <th>2022-10-21</th>\n",
       "      <td>116.19</td>\n",
       "      <td>113.09</td>\n",
       "      <td>93.09</td>\n",
       "      <td>80.63</td>\n",
       "    </tr>\n",
       "    <tr>\n",
       "      <th>...</th>\n",
       "      <td>...</td>\n",
       "      <td>...</td>\n",
       "      <td>...</td>\n",
       "      <td>...</td>\n",
       "    </tr>\n",
       "    <tr>\n",
       "      <th>2023-01-26</th>\n",
       "      <td>109.98</td>\n",
       "      <td>178.11</td>\n",
       "      <td>52.80</td>\n",
       "      <td>84.51</td>\n",
       "    </tr>\n",
       "    <tr>\n",
       "      <th>2023-01-27</th>\n",
       "      <td>114.06</td>\n",
       "      <td>186.02</td>\n",
       "      <td>51.10</td>\n",
       "      <td>76.66</td>\n",
       "    </tr>\n",
       "    <tr>\n",
       "      <th>2023-01-28</th>\n",
       "      <td>121.66</td>\n",
       "      <td>192.91</td>\n",
       "      <td>50.70</td>\n",
       "      <td>73.63</td>\n",
       "    </tr>\n",
       "    <tr>\n",
       "      <th>2023-01-29</th>\n",
       "      <td>123.29</td>\n",
       "      <td>208.53</td>\n",
       "      <td>45.70</td>\n",
       "      <td>67.14</td>\n",
       "    </tr>\n",
       "    <tr>\n",
       "      <th>2023-01-30</th>\n",
       "      <td>128.69</td>\n",
       "      <td>224.00</td>\n",
       "      <td>44.57</td>\n",
       "      <td>62.85</td>\n",
       "    </tr>\n",
       "  </tbody>\n",
       "</table>\n",
       "<p>106 rows × 4 columns</p>\n",
       "</div>"
      ],
      "text/plain": [
       "            ascending_1  ascending_2  descending_1  descending_2\n",
       "Date                                                            \n",
       "2022-10-17       100.00       100.00        100.00        100.00\n",
       "2022-10-18       100.00       100.00        100.00        100.00\n",
       "2022-10-19       109.28       102.43         93.92         92.83\n",
       "2022-10-20       112.34       108.82         93.25         86.44\n",
       "2022-10-21       116.19       113.09         93.09         80.63\n",
       "...                 ...          ...           ...           ...\n",
       "2023-01-26       109.98       178.11         52.80         84.51\n",
       "2023-01-27       114.06       186.02         51.10         76.66\n",
       "2023-01-28       121.66       192.91         50.70         73.63\n",
       "2023-01-29       123.29       208.53         45.70         67.14\n",
       "2023-01-30       128.69       224.00         44.57         62.85\n",
       "\n",
       "[106 rows x 4 columns]"
      ]
     },
     "execution_count": 255,
     "metadata": {},
     "output_type": "execute_result"
    }
   ],
   "source": [
    "from utils import generate_data\n",
    "data, seq_len_data = generate_data(end_date=datetime(2023, 1, 30),\n",
    "                                   days=10,\n",
    "                                   num_ascending_start=1,\n",
    "                                   num_descending_start=1,\n",
    "                                   swap_count=2)\n",
    "data"
   ]
  },
  {
   "cell_type": "markdown",
   "metadata": {},
   "source": [
    "### **Prepare data for the model**"
   ]
  },
  {
   "cell_type": "markdown",
   "metadata": {},
   "source": [
    "**Calculating percentage changes**"
   ]
  },
  {
   "cell_type": "code",
   "execution_count": 256,
   "metadata": {},
   "outputs": [
    {
     "name": "stdout",
     "output_type": "stream",
     "text": [
      "Data shape: (105, 5)\n"
     ]
    },
    {
     "data": {
      "text/html": [
       "<div>\n",
       "<style scoped>\n",
       "    .dataframe tbody tr th:only-of-type {\n",
       "        vertical-align: middle;\n",
       "    }\n",
       "\n",
       "    .dataframe tbody tr th {\n",
       "        vertical-align: top;\n",
       "    }\n",
       "\n",
       "    .dataframe thead th {\n",
       "        text-align: right;\n",
       "    }\n",
       "</style>\n",
       "<table border=\"1\" class=\"dataframe\">\n",
       "  <thead>\n",
       "    <tr style=\"text-align: right;\">\n",
       "      <th></th>\n",
       "      <th>ascending_1</th>\n",
       "      <th>ascending_2</th>\n",
       "      <th>descending_1</th>\n",
       "      <th>descending_2</th>\n",
       "      <th>SAVE</th>\n",
       "    </tr>\n",
       "    <tr>\n",
       "      <th>Date</th>\n",
       "      <th></th>\n",
       "      <th></th>\n",
       "      <th></th>\n",
       "      <th></th>\n",
       "      <th></th>\n",
       "    </tr>\n",
       "  </thead>\n",
       "  <tbody>\n",
       "    <tr>\n",
       "      <th>2022-10-18</th>\n",
       "      <td>0.000000</td>\n",
       "      <td>0.000000</td>\n",
       "      <td>0.000000</td>\n",
       "      <td>0.000000</td>\n",
       "      <td>0</td>\n",
       "    </tr>\n",
       "    <tr>\n",
       "      <th>2022-10-19</th>\n",
       "      <td>0.092800</td>\n",
       "      <td>0.024300</td>\n",
       "      <td>-0.060800</td>\n",
       "      <td>-0.071700</td>\n",
       "      <td>0</td>\n",
       "    </tr>\n",
       "    <tr>\n",
       "      <th>2022-10-20</th>\n",
       "      <td>0.028001</td>\n",
       "      <td>0.062384</td>\n",
       "      <td>-0.007134</td>\n",
       "      <td>-0.068836</td>\n",
       "      <td>0</td>\n",
       "    </tr>\n",
       "    <tr>\n",
       "      <th>2022-10-21</th>\n",
       "      <td>0.034271</td>\n",
       "      <td>0.039239</td>\n",
       "      <td>-0.001716</td>\n",
       "      <td>-0.067214</td>\n",
       "      <td>0</td>\n",
       "    </tr>\n",
       "    <tr>\n",
       "      <th>2022-10-22</th>\n",
       "      <td>0.025045</td>\n",
       "      <td>0.083473</td>\n",
       "      <td>-0.032334</td>\n",
       "      <td>-0.068337</td>\n",
       "      <td>0</td>\n",
       "    </tr>\n",
       "  </tbody>\n",
       "</table>\n",
       "</div>"
      ],
      "text/plain": [
       "            ascending_1  ascending_2  descending_1  descending_2  SAVE\n",
       "Date                                                                  \n",
       "2022-10-18     0.000000     0.000000      0.000000      0.000000     0\n",
       "2022-10-19     0.092800     0.024300     -0.060800     -0.071700     0\n",
       "2022-10-20     0.028001     0.062384     -0.007134     -0.068836     0\n",
       "2022-10-21     0.034271     0.039239     -0.001716     -0.067214     0\n",
       "2022-10-22     0.025045     0.083473     -0.032334     -0.068337     0"
      ]
     },
     "execution_count": 256,
     "metadata": {},
     "output_type": "execute_result"
    }
   ],
   "source": [
    "# Calculate daily returns\n",
    "data_returns = data.pct_change().dropna()\n",
    "\n",
    "# Add new row equal to 0 - don't invest in anything\n",
    "data_returns['SAVE'] = 0\n",
    "\n",
    "print(f'Data shape: {data_returns.shape}')\n",
    "data_returns.head()"
   ]
  },
  {
   "cell_type": "markdown",
   "metadata": {},
   "source": [
    "**Convert to target shape**"
   ]
  },
  {
   "cell_type": "code",
   "execution_count": 257,
   "metadata": {},
   "outputs": [],
   "source": [
    "# Parameters\n",
    "seq_len = seq_len_data\n",
    "batch_size = len(data_returns) - seq_len\n",
    "input_size = len(data_returns.columns)\n",
    "\n",
    "# Convert DataFrame to NumPy for easier slicing\n",
    "data_returns_np = data_returns.values\n",
    "\n",
    "# Create sequences\n",
    "X = []\n",
    "Y = []\n",
    "for i in range(batch_size):\n",
    "    X.append(data_returns_np[i:i+seq_len])\n",
    "\n",
    "    # Get the index of the highest return for the next day\n",
    "    next_day_returns = data_returns_np[i+seq_len]\n",
    "    Y.append(next_day_returns)\n",
    "\n",
    "# Convert lists to NumPy arrays\n",
    "X = np.array(X)  # Shape: (batch_size, seq_len, input_size)\n",
    "Y = np.array(Y)  # Shape: (batch_size, input_size)\n",
    "\n",
    "# Convert to PyTorch tensors\n",
    "X = torch.tensor(X, dtype=torch.float32)  # Shape: (batch_size, seq_len, input_size)\n",
    "Y = torch.tensor(Y, dtype=torch.float32)  # Shape: (batch_size, input_size)"
   ]
  },
  {
   "cell_type": "code",
   "execution_count": 258,
   "metadata": {},
   "outputs": [
    {
     "name": "stdout",
     "output_type": "stream",
     "text": [
      "X shape: \n",
      "\ttorch.Size([98, 7, 5])\n",
      "X sample: \n",
      "\ttensor([[ 0.0928,  0.0243, -0.0608, -0.0717,  0.0000],\n",
      "        [ 0.0280,  0.0624, -0.0071, -0.0688,  0.0000],\n",
      "        [ 0.0343,  0.0392, -0.0017, -0.0672,  0.0000],\n",
      "        [ 0.0250,  0.0835, -0.0323, -0.0683,  0.0000],\n",
      "        [ 0.0483,  0.0945, -0.0821, -0.0543,  0.0000],\n",
      "        [ 0.0931,  0.0455, -0.0448, -0.0698,  0.0000],\n",
      "        [ 0.0792,  0.0968, -0.0048, -0.0371,  0.0000]])\n"
     ]
    }
   ],
   "source": [
    "print(f'X shape: \\n\\t{X.shape}')\n",
    "print(f'X sample: \\n\\t{X[1]}')"
   ]
  },
  {
   "cell_type": "code",
   "execution_count": 259,
   "metadata": {},
   "outputs": [
    {
     "name": "stdout",
     "output_type": "stream",
     "text": [
      "Y shape: \n",
      "\ttorch.Size([98, 5])\n",
      "Y sample: \n",
      "\ttensor([-0.0636, -0.0200,  0.0059,  0.0930,  0.0000])\n"
     ]
    }
   ],
   "source": [
    "print(f'Y shape: \\n\\t{Y.shape}')\n",
    "print(f'Y sample: \\n\\t{Y[1]}')"
   ]
  },
  {
   "cell_type": "markdown",
   "metadata": {},
   "source": [
    "### **Loss**"
   ]
  },
  {
   "cell_type": "code",
   "execution_count": 260,
   "metadata": {},
   "outputs": [
    {
     "name": "stdout",
     "output_type": "stream",
     "text": [
      "Y_max shape: \n",
      "\ttorch.Size([98, 5])\n",
      "Y_max sample: \n",
      "\ttensor([0., 0., 0., 1., 0.])\n"
     ]
    }
   ],
   "source": [
    "Y_max_id = Y.argmax(axis=1)\n",
    "Y_max = torch.zeros_like(Y)\n",
    "Y_max[torch.arange(Y_max_id.shape[0]), Y_max_id] = 1\n",
    "\n",
    "print(f'Y_max shape: \\n\\t{Y_max.shape}')\n",
    "print(f'Y_max sample: \\n\\t{Y_max[1]}')"
   ]
  },
  {
   "cell_type": "markdown",
   "metadata": {},
   "source": [
    "### **Model**"
   ]
  },
  {
   "cell_type": "code",
   "execution_count": 261,
   "metadata": {},
   "outputs": [],
   "source": [
    "class LSTMModel(nn.Module): \n",
    "    def __init__(self, input_size, hidden_size, output_size, num_layers, dropout_rate=0.5): \n",
    "        super(LSTMModel, self).__init__() \n",
    "        self.input_size = input_size #input size \n",
    "        self.hidden_size = hidden_size #hidden state \n",
    "        self.output_size = output_size #number of classes \n",
    "        self.num_layers = num_layers #number of layers \n",
    "\n",
    "        self.lstm = nn.LSTM(input_size=input_size, hidden_size=hidden_size, num_layers=num_layers, batch_first=True, dropout=dropout_rate) #lstm \n",
    "        self.fc =  nn.Linear(hidden_size, hidden_size) #fully connected 1 \n",
    "        self.fc_out = nn.Linear(hidden_size, output_size) #fully connected 2 \n",
    "        self.relu = nn.ReLU() \n",
    "        self.softmax = nn.Softmax(dim=1)\n",
    "        \n",
    "    def forward(self, x): \n",
    "        h_0 = Variable(torch.zeros(self.num_layers, x.size(0), self.hidden_size)) #hidden state \n",
    "        c_0 = Variable(torch.zeros(self.num_layers, x.size(0), self.hidden_size)) #internal state \n",
    "\n",
    "        # LSTM layer \n",
    "        lstm_out, (hn, cn) = self.lstm(x, (h_0, c_0)) #lstm with input, hidden, and internal state \n",
    "        x = lstm_out[:, -1, :]  # (batch_size, hidden_size)\n",
    "        x = self.relu(x) \n",
    "        x = self.fc(x) \n",
    "        x = self.relu(x) \n",
    "        x = self.fc_out(x) \n",
    "\n",
    "        # Pass the output through the softmax function (to get sum equal to 1) \n",
    "        out = self.softmax(x)\n",
    "        \n",
    "        return out"
   ]
  },
  {
   "cell_type": "markdown",
   "metadata": {},
   "source": [
    "### **Training**"
   ]
  },
  {
   "cell_type": "code",
   "execution_count": 250,
   "metadata": {},
   "outputs": [
    {
     "name": "stdout",
     "output_type": "stream",
     "text": [
      "Epoch [100/1000], Loss: 0.1492\n",
      "Epoch [200/1000], Loss: 0.1471\n",
      "Epoch [300/1000], Loss: 0.1031\n",
      "Epoch [400/1000], Loss: 0.0954\n",
      "Epoch [500/1000], Loss: 0.0886\n",
      "Epoch [600/1000], Loss: 0.0849\n",
      "Epoch [700/1000], Loss: 0.0803\n",
      "Epoch [800/1000], Loss: 0.0802\n",
      "Epoch [900/1000], Loss: 0.0798\n",
      "Epoch [1000/1000], Loss: 0.0756\n"
     ]
    }
   ],
   "source": [
    "input_size = X.shape[2]\n",
    "hidden_size = 256\n",
    "output_size = Y.shape[1]\n",
    "\n",
    "# Create the model\n",
    "lstm_model = LSTMModel(input_size=input_size,\n",
    "                  hidden_size=hidden_size,\n",
    "                  output_size=output_size,\n",
    "                  num_layers=2)\n",
    "\n",
    "# Loss and optimizer\n",
    "criterion = nn.MSELoss()\n",
    "# criterion = lstm_model.SharpeRatioLoss()\n",
    "optimizer = torch.optim.Adam(lstm_model.parameters(), lr=1e-4)\n",
    "\n",
    "# Training\n",
    "num_epochs = 1000\n",
    "\n",
    "for epoch in range(num_epochs):\n",
    "    lstm_model.train()\n",
    "    optimizer.zero_grad()\n",
    "\n",
    "    # Forward pass\n",
    "    outputs = lstm_model(X)\n",
    "\n",
    "    # Calculate loss\n",
    "    loss = criterion(outputs, Y_max)\n",
    "\n",
    "    # Backward pass and optimization\n",
    "    loss.backward()\n",
    "    optimizer.step()\n",
    "\n",
    "    if (epoch+1) % 100 == 0:\n",
    "        print(f'Epoch [{epoch+1}/{num_epochs}], Loss: {loss.item():.4f}')"
   ]
  },
  {
   "cell_type": "code",
   "execution_count": 233,
   "metadata": {},
   "outputs": [],
   "source": [
    "with torch.no_grad():\n",
    "    output_weights = model(X)"
   ]
  },
  {
   "cell_type": "code",
   "execution_count": 234,
   "metadata": {},
   "outputs": [
    {
     "data": {
      "text/html": [
       "<div>\n",
       "<style scoped>\n",
       "    .dataframe tbody tr th:only-of-type {\n",
       "        vertical-align: middle;\n",
       "    }\n",
       "\n",
       "    .dataframe tbody tr th {\n",
       "        vertical-align: top;\n",
       "    }\n",
       "\n",
       "    .dataframe thead th {\n",
       "        text-align: right;\n",
       "    }\n",
       "</style>\n",
       "<table border=\"1\" class=\"dataframe\">\n",
       "  <thead>\n",
       "    <tr style=\"text-align: right;\">\n",
       "      <th></th>\n",
       "      <th>ascending_1</th>\n",
       "      <th>ascending_2</th>\n",
       "      <th>descending_1</th>\n",
       "      <th>descending_2</th>\n",
       "    </tr>\n",
       "    <tr>\n",
       "      <th>Date</th>\n",
       "      <th></th>\n",
       "      <th></th>\n",
       "      <th></th>\n",
       "      <th></th>\n",
       "    </tr>\n",
       "  </thead>\n",
       "  <tbody>\n",
       "    <tr>\n",
       "      <th>2022-10-17</th>\n",
       "      <td>100.00</td>\n",
       "      <td>100.00</td>\n",
       "      <td>100.00</td>\n",
       "      <td>100.00</td>\n",
       "    </tr>\n",
       "    <tr>\n",
       "      <th>2022-10-18</th>\n",
       "      <td>100.00</td>\n",
       "      <td>100.00</td>\n",
       "      <td>100.00</td>\n",
       "      <td>100.00</td>\n",
       "    </tr>\n",
       "    <tr>\n",
       "      <th>2022-10-19</th>\n",
       "      <td>106.17</td>\n",
       "      <td>103.90</td>\n",
       "      <td>94.65</td>\n",
       "      <td>91.34</td>\n",
       "    </tr>\n",
       "    <tr>\n",
       "      <th>2022-10-20</th>\n",
       "      <td>109.76</td>\n",
       "      <td>106.87</td>\n",
       "      <td>93.96</td>\n",
       "      <td>90.48</td>\n",
       "    </tr>\n",
       "    <tr>\n",
       "      <th>2022-10-21</th>\n",
       "      <td>119.36</td>\n",
       "      <td>114.81</td>\n",
       "      <td>92.32</td>\n",
       "      <td>87.24</td>\n",
       "    </tr>\n",
       "    <tr>\n",
       "      <th>...</th>\n",
       "      <td>...</td>\n",
       "      <td>...</td>\n",
       "      <td>...</td>\n",
       "      <td>...</td>\n",
       "    </tr>\n",
       "    <tr>\n",
       "      <th>2023-01-26</th>\n",
       "      <td>74.63</td>\n",
       "      <td>93.70</td>\n",
       "      <td>91.25</td>\n",
       "      <td>58.94</td>\n",
       "    </tr>\n",
       "    <tr>\n",
       "      <th>2023-01-27</th>\n",
       "      <td>75.53</td>\n",
       "      <td>100.25</td>\n",
       "      <td>91.23</td>\n",
       "      <td>56.71</td>\n",
       "    </tr>\n",
       "    <tr>\n",
       "      <th>2023-01-28</th>\n",
       "      <td>78.91</td>\n",
       "      <td>106.66</td>\n",
       "      <td>91.11</td>\n",
       "      <td>51.77</td>\n",
       "    </tr>\n",
       "    <tr>\n",
       "      <th>2023-01-29</th>\n",
       "      <td>82.33</td>\n",
       "      <td>116.78</td>\n",
       "      <td>82.20</td>\n",
       "      <td>51.51</td>\n",
       "    </tr>\n",
       "    <tr>\n",
       "      <th>2023-01-30</th>\n",
       "      <td>88.73</td>\n",
       "      <td>121.71</td>\n",
       "      <td>75.45</td>\n",
       "      <td>50.45</td>\n",
       "    </tr>\n",
       "  </tbody>\n",
       "</table>\n",
       "<p>106 rows × 4 columns</p>\n",
       "</div>"
      ],
      "text/plain": [
       "            ascending_1  ascending_2  descending_1  descending_2\n",
       "Date                                                            \n",
       "2022-10-17       100.00       100.00        100.00        100.00\n",
       "2022-10-18       100.00       100.00        100.00        100.00\n",
       "2022-10-19       106.17       103.90         94.65         91.34\n",
       "2022-10-20       109.76       106.87         93.96         90.48\n",
       "2022-10-21       119.36       114.81         92.32         87.24\n",
       "...                 ...          ...           ...           ...\n",
       "2023-01-26        74.63        93.70         91.25         58.94\n",
       "2023-01-27        75.53       100.25         91.23         56.71\n",
       "2023-01-28        78.91       106.66         91.11         51.77\n",
       "2023-01-29        82.33       116.78         82.20         51.51\n",
       "2023-01-30        88.73       121.71         75.45         50.45\n",
       "\n",
       "[106 rows x 4 columns]"
      ]
     },
     "execution_count": 234,
     "metadata": {},
     "output_type": "execute_result"
    }
   ],
   "source": [
    "data"
   ]
  },
  {
   "cell_type": "code",
   "execution_count": 235,
   "metadata": {},
   "outputs": [
    {
     "name": "stdout",
     "output_type": "stream",
     "text": [
      "Output weights shape: torch.Size([98, 5])\n"
     ]
    },
    {
     "data": {
      "text/plain": [
       "[['13.76', '36.04', '7.88', '42.28', '0.04'],\n",
       " ['0.11', '0.21', '37.61', '62.06', '0.01'],\n",
       " ['0.61', '1.19', '53.15', '45.03', '0.02'],\n",
       " ['0.10', '0.22', '34.61', '65.07', '0.01'],\n",
       " ['0.12', '0.24', '34.96', '64.67', '0.01'],\n",
       " ['0.10', '0.19', '41.95', '57.76', '0.01'],\n",
       " ['0.11', '0.22', '42.48', '57.18', '0.01'],\n",
       " ['5.82', '16.57', '10.31', '67.27', '0.03'],\n",
       " ['39.74', '59.79', '0.01', '0.46', '0.00'],\n",
       " ['37.10', '62.19', '0.01', '0.69', '0.00'],\n",
       " ['33.19', '65.65', '0.02', '1.14', '0.00'],\n",
       " ['35.97', '63.30', '0.01', '0.71', '0.00'],\n",
       " ['37.62', '61.70', '0.01', '0.66', '0.00'],\n",
       " ['45.66', '54.06', '0.00', '0.28', '0.00'],\n",
       " ['32.49', '66.56', '0.02', '0.92', '0.00'],\n",
       " ['0.15', '0.29', '48.45', '51.10', '0.01'],\n",
       " ['0.02', '0.03', '88.52', '11.42', '0.00'],\n",
       " ['0.00', '0.00', '0.21', '99.78', '0.00'],\n",
       " ['0.00', '0.00', '0.45', '99.54', '0.00'],\n",
       " ['0.00', '0.01', '2.46', '97.52', '0.00'],\n",
       " ['0.37', '0.80', '53.74', '45.09', '0.01'],\n",
       " ['0.55', '1.41', '36.23', '61.79', '0.02'],\n",
       " ['26.65', '71.28', '0.05', '2.01', '0.00'],\n",
       " ['35.09', '64.16', '0.01', '0.73', '0.00'],\n",
       " ['38.23', '61.16', '0.01', '0.60', '0.00'],\n",
       " ['41.03', '58.46', '0.01', '0.49', '0.00'],\n",
       " ['41.14', '58.46', '0.01', '0.39', '0.00'],\n",
       " ['36.29', '62.98', '0.01', '0.72', '0.00'],\n",
       " ['27.09', '62.08', '0.79', '10.02', '0.02'],\n",
       " ['0.00', '0.00', '0.16', '99.83', '0.00'],\n",
       " ['0.07', '0.13', '66.09', '33.71', '0.01'],\n",
       " ['0.19', '0.36', '63.99', '35.45', '0.01'],\n",
       " ['0.12', '0.23', '43.09', '56.56', '0.01'],\n",
       " ['0.14', '0.27', '45.22', '54.36', '0.01'],\n",
       " ['0.09', '0.16', '51.88', '47.86', '0.01'],\n",
       " ['0.41', '0.96', '42.83', '55.78', '0.01'],\n",
       " ['37.06', '62.24', '0.01', '0.69', '0.00'],\n",
       " ['31.98', '67.04', '0.02', '0.96', '0.00'],\n",
       " ['37.27', '62.10', '0.01', '0.62', '0.00'],\n",
       " ['39.30', '60.15', '0.01', '0.54', '0.00'],\n",
       " ['43.67', '56.00', '0.01', '0.32', '0.00'],\n",
       " ['44.20', '55.47', '0.01', '0.32', '0.00'],\n",
       " ['44.33', '55.32', '0.01', '0.34', '0.00'],\n",
       " ['0.00', '0.00', '0.16', '99.84', '0.00'],\n",
       " ['0.03', '0.04', '79.08', '20.84', '0.00'],\n",
       " ['0.04', '0.06', '83.00', '16.89', '0.00'],\n",
       " ['0.08', '0.13', '63.24', '36.55', '0.01'],\n",
       " ['0.05', '0.09', '74.98', '24.87', '0.00'],\n",
       " ['0.12', '0.24', '52.58', '47.05', '0.01'],\n",
       " ['0.52', '1.18', '47.35', '50.94', '0.01'],\n",
       " ['29.32', '68.86', '0.04', '1.77', '0.00'],\n",
       " ['31.99', '66.94', '0.02', '1.05', '0.00'],\n",
       " ['38.68', '60.71', '0.01', '0.59', '0.00'],\n",
       " ['36.26', '63.00', '0.01', '0.72', '0.00'],\n",
       " ['45.80', '53.90', '0.00', '0.29', '0.00'],\n",
       " ['43.12', '56.51', '0.01', '0.36', '0.00'],\n",
       " ['41.57', '58.02', '0.01', '0.40', '0.00'],\n",
       " ['0.07', '0.11', '71.33', '28.48', '0.01'],\n",
       " ['0.12', '0.24', '34.73', '64.91', '0.01'],\n",
       " ['0.00', '0.01', '1.29', '98.70', '0.00'],\n",
       " ['0.53', '1.05', '60.59', '37.81', '0.02'],\n",
       " ['0.00', '0.01', '1.87', '98.11', '0.00'],\n",
       " ['0.02', '0.03', '88.30', '11.64', '0.00'],\n",
       " ['0.14', '0.26', '64.73', '34.87', '0.01'],\n",
       " ['35.01', '64.22', '0.02', '0.75', '0.00'],\n",
       " ['39.23', '60.13', '0.01', '0.63', '0.00'],\n",
       " ['34.30', '64.80', '0.02', '0.87', '0.00'],\n",
       " ['30.61', '67.90', '0.03', '1.46', '0.00'],\n",
       " ['44.73', '54.96', '0.00', '0.31', '0.00'],\n",
       " ['45.01', '54.65', '0.01', '0.33', '0.00'],\n",
       " ['44.55', '55.09', '0.01', '0.35', '0.00'],\n",
       " ['0.15', '0.29', '62.26', '37.29', '0.01'],\n",
       " ['0.00', '0.00', '0.28', '99.72', '0.00'],\n",
       " ['0.01', '0.02', '6.38', '93.59', '0.00'],\n",
       " ['0.11', '0.23', '34.99', '64.66', '0.01'],\n",
       " ['0.10', '0.20', '36.20', '63.50', '0.01'],\n",
       " ['0.10', '0.20', '36.05', '63.64', '0.01'],\n",
       " ['1.00', '2.33', '39.20', '57.45', '0.02'],\n",
       " ['43.48', '56.16', '0.01', '0.35', '0.00'],\n",
       " ['40.43', '59.06', '0.01', '0.50', '0.00'],\n",
       " ['35.37', '63.93', '0.01', '0.68', '0.00'],\n",
       " ['39.82', '59.72', '0.01', '0.45', '0.00'],\n",
       " ['45.77', '53.94', '0.00', '0.28', '0.00'],\n",
       " ['48.25', '51.52', '0.00', '0.23', '0.00'],\n",
       " ['40.45', '59.05', '0.01', '0.49', '0.00'],\n",
       " ['0.12', '0.26', '34.66', '64.96', '0.01'],\n",
       " ['0.13', '0.26', '35.90', '63.70', '0.01'],\n",
       " ['0.13', '0.25', '52.60', '47.02', '0.01'],\n",
       " ['0.11', '0.22', '37.37', '62.29', '0.01'],\n",
       " ['0.08', '0.15', '54.57', '45.19', '0.01'],\n",
       " ['0.16', '0.31', '62.45', '37.07', '0.01'],\n",
       " ['6.21', '16.92', '12.09', '64.75', '0.03'],\n",
       " ['38.02', '61.34', '0.01', '0.62', '0.00'],\n",
       " ['35.48', '63.75', '0.02', '0.75', '0.00'],\n",
       " ['33.72', '65.43', '0.02', '0.83', '0.00'],\n",
       " ['37.68', '61.67', '0.01', '0.63', '0.00'],\n",
       " ['44.26', '55.36', '0.01', '0.37', '0.00'],\n",
       " ['45.65', '54.04', '0.00', '0.30', '0.00']]"
      ]
     },
     "execution_count": 235,
     "metadata": {},
     "output_type": "execute_result"
    }
   ],
   "source": [
    "print(f'Output weights shape: {output_weights.shape}')\n",
    "[[f\"{elem * 100 :.2f}\" for elem in row] for row in output_weights]"
   ]
  }
 ],
 "metadata": {
  "kernelspec": {
   "display_name": "Python 3",
   "language": "python",
   "name": "python3"
  },
  "language_info": {
   "codemirror_mode": {
    "name": "ipython",
    "version": 3
   },
   "file_extension": ".py",
   "mimetype": "text/x-python",
   "name": "python",
   "nbconvert_exporter": "python",
   "pygments_lexer": "ipython3",
   "version": "3.12.4"
  }
 },
 "nbformat": 4,
 "nbformat_minor": 2
}
